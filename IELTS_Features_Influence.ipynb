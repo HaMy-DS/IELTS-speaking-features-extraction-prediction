{
  "cells": [
    {
      "cell_type": "markdown",
      "metadata": {
        "id": "JC6BcvPvV2Fu"
      },
      "source": [
        "# Prepare data"
      ]
    },
    {
      "cell_type": "code",
      "execution_count": null,
      "metadata": {
        "id": "BXSbZ2XAVVJo"
      },
      "outputs": [],
      "source": [
        "# Data Collection, Data Cleaning & Data Manipulation\n",
        "import pandas as pd\n",
        "import numpy as np\n",
        "\n",
        "# Data Visualization\n",
        "import matplotlib.pyplot as plt\n",
        "import seaborn as sns\n",
        "\n",
        "# Data Transformation\n",
        "import datetime\n",
        "from sklearn import preprocessing\n",
        "from sklearn.preprocessing import LabelEncoder, OneHotEncoder\n",
        "from scipy import stats\n",
        "\n",
        "# Model Building\n",
        "import itertools\n",
        "import os\n",
        "import random\n",
        "import tensorflow as tf\n",
        "from tensorflow.keras.models import Sequential, load_model\n",
        "from tensorflow.keras.layers import Dense, LSTM, GRU, SimpleRNN, RNN, Input, Bidirectional\n",
        "from sklearn.preprocessing import MinMaxScaler, RobustScaler\n",
        "from tensorflow.keras.callbacks import ModelCheckpoint, EarlyStopping, ReduceLROnPlateau, LearningRateScheduler\n",
        "from sklearn.model_selection import GroupKFold\n",
        "from sklearn.model_selection import train_test_split\n",
        "from tensorflow.keras.optimizers.schedules import ExponentialDecay\n",
        "from sklearn.metrics import accuracy_score, mean_squared_error as mse\n",
        "import warnings\n",
        "warnings.simplefilter(action='ignore', category=FutureWarning)"
      ]
    },
    {
      "cell_type": "code",
      "execution_count": null,
      "metadata": {
        "id": "mhulhdpKV6do"
      },
      "outputs": [],
      "source": [
        "import pandas as pd\n",
        "\n",
        "df = pd.read_csv('/content/drive/MyDrive/IELTS Features Influence Analysis/student_topic_analysis_results - Sheet1.csv')\n",
        "df= df[['mean hesitation', 'mean conf', 'grammar point', 'unique word (%)', '% rare words', 'words', 'IELTS speaking score']]\n",
        "df=df.dropna(axis=0, how='any')\n",
        "df['grammar point']=df['grammar point'].astype(float)\n",
        "df = df.rename(columns={'IELTS speaking score': 'Score'})\n",
        "df = df.rename(columns={'% rare words': 'Rare word'})\n",
        "df = df.rename(columns={'unique word (%)': 'Unique word'})\n",
        "df = df.rename(columns={'words': 'Number of word'})\n",
        "df = df.rename(columns={'grammar point': 'Grammar point'})\n",
        "df = df.rename(columns={'mean hesitation': 'Mean hesitation'})\n",
        "df = df.rename(columns={'mean conf': 'Mean conf'})\n",
        "\n",
        "feat_cols = ['Mean hesitation', 'Mean conf', 'Grammar point', 'Unique word', 'Rare word', 'Number of word']\n"
      ]
    },
    {
      "cell_type": "code",
      "execution_count": null,
      "metadata": {
        "id": "jALf-g_PXRnf"
      },
      "outputs": [],
      "source": [
        "# split train/val/test\n",
        "from sklearn.model_selection import train_test_split\n",
        "trainset, testset = train_test_split(df, test_size=0.2, random_state = 42)"
      ]
    },
    {
      "cell_type": "code",
      "execution_count": null,
      "metadata": {
        "id": "UhKomo4kXWI0"
      },
      "outputs": [],
      "source": [
        "X_test = testset[['Mean hesitation', 'Mean conf', 'Grammar point', 'Unique word', 'Rare word', 'Number of word']]\n",
        "y_test = testset[['Score']]\n",
        "\n",
        "X_train = trainset[['Mean hesitation', 'Mean conf', 'Grammar point', 'Unique word', 'Rare word', 'Number of word']]\n",
        "y_train = trainset[['Score']]"
      ]
    },
    {
      "cell_type": "markdown",
      "metadata": {
        "id": "fK49W8fXWYNF"
      },
      "source": [
        "# Oversampling and Undersampling data"
      ]
    },
    {
      "cell_type": "code",
      "execution_count": null,
      "metadata": {
        "id": "gmhqcRAtWWI4"
      },
      "outputs": [],
      "source": [
        "from imblearn.over_sampling import RandomOverSampler, SMOTE\n",
        "from imblearn.under_sampling import RandomUnderSampler, NearMiss\n",
        "from collections import Counter"
      ]
    },
    {
      "cell_type": "code",
      "execution_count": null,
      "metadata": {
        "id": "KSCRKmTUXFPw"
      },
      "outputs": [],
      "source": [
        "# Chia train dataset để áp dụng Near Miss\n",
        "majority1 = trainset[trainset['Score'].isin([55.0, 60.0])]\n",
        "X_tr_miss = majority1[['Mean hesitation', 'Mean conf', 'Grammar point', 'Unique word', 'Rare word', 'Number of word']]\n",
        "y_tr_miss = majority1[['Score']]\n",
        "\n",
        "# Chia train dataset để áp dụng Oversampling\n",
        "#minority1 = trainset[trainset['Score'].isin([50.0, 40.0, 70.0, 65.0, 80.0, 45.0 ])]\n",
        "\n",
        "## Áp dụng SMOTE\n",
        "smoteset = trainset[trainset['Score'].isin([40.0, 70.0, 80.0, 45.0])]\n",
        "X_tr_smote = smoteset[['Mean hesitation', 'Mean conf', 'Grammar point', 'Unique word', 'Rare word', 'Number of word']]\n",
        "y_tr_smote = smoteset[['Score']]\n",
        "## Áp dụng Random Oversampling\n",
        "randomset = trainset[trainset['Score'].isin([50.0, 65.0])]\n",
        "X_tr_random = randomset[['Mean hesitation', 'Mean conf', 'Grammar point', 'Unique word', 'Rare word', 'Number of word']]\n",
        "y_tr_random = randomset[['Score']]"
      ]
    },
    {
      "cell_type": "code",
      "execution_count": null,
      "metadata": {
        "colab": {
          "base_uri": "https://localhost:8080/"
        },
        "id": "IHgrH5faX6_1",
        "outputId": "5662fb84-1c32-40f4-a411-496ba3ca4bdf"
      },
      "outputs": [
        {
          "name": "stdout",
          "output_type": "stream",
          "text": [
            "Before using Near Miss-UnderSampling, the shape of X_tr_miss: (335, 6)\n",
            "Before using Near Miss-UnderSampling, the shape of y_tr_miss: (335, 1) \n",
            "\n",
            "After using Near Miss-UnderSampling, the shape of X_tr_miss: (296, 6)\n",
            "After using Near Miss-UnderSampling, the shape of y_tr_miss: (296, 1) \n",
            "\n",
            "Before using SMOTE-Oversampling, the shape of X_tr_smote: (88, 6)\n",
            "Before using SMOTE-Oversampling, the shape of y_tr_smote: (88, 1) \n",
            "\n",
            "After using SMOTE-Oversampling, the shape of X_tr_smote: (216, 6)\n",
            "After using SMOTE-Oversampling, the shape of y_tr_smote: (216, 1) \n",
            "\n"
          ]
        }
      ],
      "source": [
        "print('Before using Near Miss-UnderSampling, the shape of X_tr_miss: {}'.format(X_tr_miss.shape))\n",
        "print('Before using Near Miss-UnderSampling, the shape of y_tr_miss: {} \\n'.format(y_tr_miss.shape))\n",
        "miss = NearMiss()\n",
        "X_tr_miss, y_tr_miss = miss.fit_resample(X_tr_miss, y_tr_miss)\n",
        "print('After using Near Miss-UnderSampling, the shape of X_tr_miss: {}'.format(X_tr_miss.shape))\n",
        "print('After using Near Miss-UnderSampling, the shape of y_tr_miss: {} \\n'.format(y_tr_miss.shape))\n",
        "\n",
        "print('Before using SMOTE-Oversampling, the shape of X_tr_smote: {}'.format(X_tr_smote.shape))\n",
        "print('Before using SMOTE-Oversampling, the shape of y_tr_smote: {} \\n'.format(y_tr_smote.shape))\n",
        "smote = SMOTE(random_state=2)\n",
        "X_tr_smote, y_tr_smote = smote.fit_resample(X_tr_smote, y_tr_smote)\n",
        "print('After using SMOTE-Oversampling, the shape of X_tr_smote: {}'.format(X_tr_smote.shape))\n",
        "print('After using SMOTE-Oversampling, the shape of y_tr_smote: {} \\n'.format(y_tr_smote.shape))"
      ]
    },
    {
      "cell_type": "code",
      "execution_count": null,
      "metadata": {
        "colab": {
          "base_uri": "https://localhost:8080/"
        },
        "id": "RHMwxoHzYSED",
        "outputId": "46a8e5d7-2f97-4fb7-a204-b3893c749661"
      },
      "outputs": [
        {
          "name": "stdout",
          "output_type": "stream",
          "text": [
            "Before using Random Oversampling, the shape of X_tr_random: (236, 6)\n",
            "Before using Random Oversampling, the shape of y_tr_random: (236, 1) \n",
            "\n",
            "After using Random Oversampling, the shape of X_tr_random: (300, 6)\n",
            "After using Random Oversampling, the shape of y_tr_random: (300, 1) \n",
            "\n"
          ]
        }
      ],
      "source": [
        "print('Before using Random Oversampling, the shape of X_tr_random: {}'.format(X_tr_random.shape))\n",
        "print('Before using Random Oversampling, the shape of y_tr_random: {} \\n'.format(y_tr_random.shape))\n",
        "random = RandomOverSampler(random_state = 2)\n",
        "X_tr_random, y_tr_random = random.fit_resample(X_tr_random, y_tr_random)\n",
        "print('After using Random Oversampling, the shape of X_tr_random: {}'.format(X_tr_random.shape))\n",
        "print('After using Random Oversampling, the shape of y_tr_random: {} \\n'.format(y_tr_random.shape))"
      ]
    },
    {
      "cell_type": "code",
      "execution_count": null,
      "metadata": {
        "colab": {
          "base_uri": "https://localhost:8080/"
        },
        "id": "NqKwlHrAXlBS",
        "outputId": "651fe41e-c1d3-41ea-d507-d3553130ca64"
      },
      "outputs": [
        {
          "name": "stdout",
          "output_type": "stream",
          "text": [
            "(812, 6) (812, 1)\n"
          ]
        }
      ],
      "source": [
        "X_train = pd.concat([X_tr_miss, X_tr_smote, X_tr_random])\n",
        "y_train = pd.concat([y_tr_miss, y_tr_smote, y_tr_random])\n",
        "print(X_train.shape, y_train.shape)\n"
      ]
    },
    {
      "cell_type": "markdown",
      "metadata": {
        "id": "nGg7V8jgWnFP"
      },
      "source": [
        "## Linear Model Inspection"
      ]
    },
    {
      "cell_type": "code",
      "execution_count": null,
      "metadata": {
        "colab": {
          "base_uri": "https://localhost:8080/"
        },
        "id": "fKTkNpeOQitA",
        "outputId": "a17e10c9-1ad4-4f4c-c5b9-5a36d911f1d5"
      },
      "outputs": [
        {
          "name": "stdout",
          "output_type": "stream",
          "text": [
            "model score on training data: 0.32269631299363166\n",
            "model score on testing data: -0.13251074923848627\n"
          ]
        }
      ],
      "source": [
        "from sklearn.pipeline import make_pipeline\n",
        "from sklearn.preprocessing import StandardScaler\n",
        "from sklearn.linear_model import RidgeCV\n",
        "\n",
        "model = make_pipeline(StandardScaler(), RidgeCV())\n",
        "\n",
        "model.fit(X_train, y_train)\n",
        "\n",
        "print(f\"model score on training data: {model.score(X_train, y_train)}\")\n",
        "print(f\"model score on testing data: {model.score(X_test, y_test)}\")"
      ]
    },
    {
      "cell_type": "code",
      "execution_count": null,
      "metadata": {
        "colab": {
          "base_uri": "https://localhost:8080/",
          "height": 577
        },
        "id": "5G3VrnBdPo83",
        "outputId": "3809c8cc-48ab-4a55-cec9-301b09008669"
      },
      "outputs": [
        {
          "data": {
            "image/png": "[encoded data removed]",
            "text/plain": [
              "<Figure size 900x700 with 1 Axes>"
            ]
          },
          "metadata": {},
          "output_type": "display_data"
        }
      ],
      "source": [
        "coefs = pd.DataFrame(\n",
        "    model[1].coef_.T, columns=[\"Coefficients\"], index=X_train.columns\n",
        ")\n",
        "\n",
        "coefs.plot(kind=\"barh\", figsize=(9, 7))\n",
        "plt.title(\"Ridge model\")\n",
        "plt.axvline(x=0, color=\".5\")\n",
        "plt.subplots_adjust(left=0.3)"
      ]
    },
    {
      "cell_type": "markdown",
      "metadata": {
        "id": "W2axW1zYTNGn"
      },
      "source": [
        "The plot above tells us about dependencies between a specific feature and the target when all other features remain constant, i.e., conditional dependencies"
      ]
    },
    {
      "cell_type": "code",
      "execution_count": null,
      "metadata": {
        "colab": {
          "base_uri": "https://localhost:8080/",
          "height": 650
        },
        "id": "-0-fQGWuTSfM",
        "outputId": "b63a62ef-35ed-4324-baed-12607c899ba1"
      },
      "outputs": [
        {
          "name": "stderr",
          "output_type": "stream",
          "text": [
            "/usr/local/lib/python3.10/dist-packages/joblib/externals/loky/backend/fork_exec.py:38: RuntimeWarning: os.fork() was called. os.fork() is incompatible with multithreaded code, and JAX is multithreaded, so this will likely lead to a deadlock.\n",
            "  pid = os.fork()\n"
          ]
        },
        {
          "data": {
            "image/png": "[encoded data removed]",
            "text/plain": [
              "<Figure size 900x700 with 1 Axes>"
            ]
          },
          "metadata": {},
          "output_type": "display_data"
        }
      ],
      "source": [
        "from sklearn.model_selection import cross_validate\n",
        "from sklearn.model_selection import RepeatedKFold\n",
        "\n",
        "cv_model = cross_validate(\n",
        "    model,\n",
        "    X_train,\n",
        "    y_train,\n",
        "    cv=RepeatedKFold(n_splits=5, n_repeats=5),\n",
        "    return_estimator=True,\n",
        "    n_jobs=2,\n",
        ")\n",
        "coefs = pd.DataFrame(\n",
        "    [model[1].coef_.reshape(-1) for model in cv_model[\"estimator\"]],\n",
        "    columns=X_train.columns,\n",
        ")\n",
        "plt.figure(figsize=(9, 7))\n",
        "sns.boxplot(data=coefs, orient=\"h\", color=\"cyan\", saturation=0.5)\n",
        "plt.axvline(x=0, color=\".5\")\n",
        "plt.xlabel(\"Coefficient importance\")\n",
        "plt.title(\"Coefficient importance and its variability\")\n",
        "plt.subplots_adjust(left=0.3)"
      ]
    },
    {
      "cell_type": "markdown",
      "metadata": {
        "id": "WUkifaoqU7An"
      },
      "source": [
        "Every coefficient looks pretty stable, which mean that different Ridge model put almost the same weight to the same feature."
      ]
    },
    {
      "cell_type": "markdown",
      "metadata": {
        "id": "oQFEM-JVVJAO"
      },
      "source": [
        "In it important to keep in mind that the associations extracted depend on the model. To illustrate this point we consider a Lasso model, that performs feature selection with a L1 penalty. Let us fit a Lasso model with a strong regularization parameters alpha"
      ]
    },
    {
      "cell_type": "code",
      "execution_count": null,
      "metadata": {
        "colab": {
          "base_uri": "https://localhost:8080/"
        },
        "id": "R_xUakoIVL7Y",
        "outputId": "329c7835-d4cd-496d-fdcc-fb3aef27ff54"
      },
      "outputs": [
        {
          "name": "stdout",
          "output_type": "stream",
          "text": [
            "model score on training data: 0.3227104214244535\n",
            "model score on testing data: -0.13508136860775877\n"
          ]
        }
      ],
      "source": [
        "from sklearn.linear_model import Lasso\n",
        "\n",
        "model = make_pipeline(StandardScaler(), Lasso(alpha=0.015))\n",
        "\n",
        "model.fit(X_train, y_train)\n",
        "\n",
        "print(f\"model score on training data: {model.score(X_train, y_train)}\")\n",
        "print(f\"model score on testing data: {model.score(X_test, y_test)}\")"
      ]
    },
    {
      "cell_type": "code",
      "execution_count": null,
      "metadata": {
        "colab": {
          "base_uri": "https://localhost:8080/",
          "height": 577
        },
        "id": "U2rw-oNvVOaW",
        "outputId": "fb1ec118-a073-4b13-fefb-6c5f5d40a7e1"
      },
      "outputs": [
        {
          "data": {
            "image/png": "[encoded data removed]",
            "text/plain": [
              "<Figure size 900x700 with 1 Axes>"
            ]
          },
          "metadata": {},
          "output_type": "display_data"
        }
      ],
      "source": [
        "coefs = pd.DataFrame(\n",
        "    model[1].coef_, columns=[\"Coefficients\"], index=X_train.columns\n",
        ")\n",
        "\n",
        "coefs.plot(kind=\"barh\", figsize=(9, 7))\n",
        "plt.title(\"Lasso model, strong regularization\")\n",
        "plt.axvline(x=0, color=\".5\")\n",
        "plt.subplots_adjust(left=0.3)"
      ]
    },
    {
      "cell_type": "code",
      "execution_count": null,
      "metadata": {
        "colab": {
          "base_uri": "https://localhost:8080/",
          "height": 594
        },
        "id": "7QJmgce3VWk6",
        "outputId": "062b7d85-2f42-46b2-cb51-dcb7147c1ec6"
      },
      "outputs": [
        {
          "data": {
            "image/png": "[encoded data removed]",
            "text/plain": [
              "<Figure size 900x700 with 1 Axes>"
            ]
          },
          "metadata": {},
          "output_type": "display_data"
        }
      ],
      "source": [
        "cv_model = cross_validate(\n",
        "    model,\n",
        "    X_train,\n",
        "    y_train,\n",
        "    cv=RepeatedKFold(n_splits=5, n_repeats=5),\n",
        "    return_estimator=True,\n",
        "    n_jobs=2,\n",
        ")\n",
        "coefs = pd.DataFrame(\n",
        "    [model[1].coef_ for model in cv_model[\"estimator\"]],\n",
        "    columns=X_train.columns,\n",
        ")\n",
        "plt.figure(figsize=(9, 7))\n",
        "sns.boxplot(data=coefs, orient=\"h\", color=\"cyan\", saturation=0.5)\n",
        "plt.axvline(x=0, color=\".5\")\n",
        "plt.xlabel(\"Coefficient importance\")\n",
        "plt.title(\"Coefficient importance and its variability\")\n",
        "plt.subplots_adjust(left=0.3)"
      ]
    },
    {
      "cell_type": "markdown",
      "metadata": {
        "id": "4df6n2hzVwQh"
      },
      "source": [
        "## Random forest feature_importances_"
      ]
    },
    {
      "cell_type": "code",
      "execution_count": null,
      "metadata": {
        "colab": {
          "base_uri": "https://localhost:8080/"
        },
        "id": "v5JI50K7V10C",
        "outputId": "a2ccfd79-1df1-432e-ad91-434ac42045d6"
      },
      "outputs": [
        {
          "name": "stderr",
          "output_type": "stream",
          "text": [
            "<ipython-input-16-d6ed02b6c865>:5: DataConversionWarning: A column-vector y was passed when a 1d array was expected. Please change the shape of y to (n_samples,), for example using ravel().\n",
            "  model.fit(X_train, y_train)\n"
          ]
        },
        {
          "name": "stdout",
          "output_type": "stream",
          "text": [
            "model score on training data: 0.9504993509233519\n",
            "model score on testing data: 0.061370621974535244\n"
          ]
        }
      ],
      "source": [
        "from sklearn.ensemble import RandomForestRegressor\n",
        "\n",
        "model = RandomForestRegressor()\n",
        "\n",
        "model.fit(X_train, y_train)\n",
        "\n",
        "print(f\"model score on training data: {model.score(X_train, y_train)}\")\n",
        "print(f\"model score on testing data: {model.score(X_test, y_test)}\")"
      ]
    },
    {
      "cell_type": "code",
      "execution_count": null,
      "metadata": {
        "id": "FArXAvRxV62Z"
      },
      "outputs": [],
      "source": [
        "importances = model.feature_importances_"
      ]
    },
    {
      "cell_type": "code",
      "execution_count": null,
      "metadata": {
        "colab": {
          "base_uri": "https://localhost:8080/",
          "height": 425
        },
        "id": "OOOtiVNeWEJR",
        "outputId": "502db4cb-e16f-4ca4-97a1-e69904120c81"
      },
      "outputs": [
        {
          "data": {
            "image/png": "[encoded data removed]",
            "text/plain": [
              "<Figure size 640x480 with 1 Axes>"
            ]
          },
          "metadata": {},
          "output_type": "display_data"
        }
      ],
      "source": [
        "indices = np.argsort(importances)\n",
        "\n",
        "fig, ax = plt.subplots()\n",
        "ax.barh(range(len(importances)), importances[indices])\n",
        "ax.set_yticks(range(len(importances)))\n",
        "_ = ax.set_yticklabels(np.array(X_train.columns)[indices])"
      ]
    },
    {
      "cell_type": "markdown",
      "metadata": {
        "id": "g8EzWIC1WsE8"
      },
      "source": [
        "## Feature importance by permutation"
      ]
    },
    {
      "cell_type": "code",
      "execution_count": null,
      "metadata": {
        "colab": {
          "base_uri": "https://localhost:8080/"
        },
        "id": "hOS3nSbIW0aG",
        "outputId": "bdc71ca1-9671-4080-ce9c-308cf59e1826"
      },
      "outputs": [
        {
          "name": "stdout",
          "output_type": "stream",
          "text": [
            "[LightGBM] [Warning] Found whitespace in feature_names, replace with underlines\n",
            "[LightGBM] [Info] Auto-choosing col-wise multi-threading, the overhead of testing was 0.000127 seconds.\n",
            "You can set `force_col_wise=true` to remove the overhead.\n",
            "[LightGBM] [Info] Total Bins 980\n",
            "[LightGBM] [Info] Number of data points in the train set: 812, number of used features: 6\n",
            "[LightGBM] [Warning] Found whitespace in feature_names, replace with underlines\n",
            "[LightGBM] [Info] Start training from score 57.832512\n",
            "Training until validation scores don't improve for 5 rounds\n",
            "[LightGBM] [Warning] No further splits with positive gain, best gain: -inf\n",
            "[LightGBM] [Warning] No further splits with positive gain, best gain: -inf\n",
            "Early stopping, best iteration is:\n",
            "[9]\tvalid_0's l1: 5.06986\tvalid_0's l2: 39.0223\n",
            "model score on training data: 0.9530814750980441\n",
            "model score on testing data: 0.037776085099458845\n"
          ]
        }
      ],
      "source": [
        "# Any model could be used here\n",
        "\n",
        "from sklearn.svm import SVC\n",
        "gbm = lgb.LGBMRegressor(num_leaves=31, learning_rate=0.05, n_estimators=20)\n",
        "gbm.fit(X_train, y_train, eval_set=[(X_test, y_test)], eval_metric=\"l1\", callbacks=[lgb.early_stopping(5)])\n",
        "\n",
        "print(f\"model score on training data: {model.score(X_train, y_train)}\")\n",
        "print(f\"model score on testing data: {model.score(X_test, y_test)}\")"
      ]
    },
    {
      "cell_type": "code",
      "execution_count": null,
      "metadata": {
        "colab": {
          "base_uri": "https://localhost:8080/",
          "height": 425
        },
        "id": "DSBMKCA3XAtW",
        "outputId": "0cbe9e23-48e9-41b3-f280-5c9248c0c107"
      },
      "outputs": [
        {
          "data": {
            "image/png": "[encoded data removed]",
            "text/plain": [
              "<Figure size 640x480 with 1 Axes>"
            ]
          },
          "metadata": {},
          "output_type": "display_data"
        }
      ],
      "source": [
        "def get_score_after_permutation(model, X, y, curr_feat):\n",
        "    \"\"\"return the score of model when curr_feat is permuted\"\"\"\n",
        "\n",
        "    X_permuted = X.copy()\n",
        "    col_idx = list(X.columns).index(curr_feat)\n",
        "    # permute one column\n",
        "    X_permuted.iloc[:, col_idx] = np.random.permutation(\n",
        "        X_permuted[curr_feat].values\n",
        "    )\n",
        "\n",
        "    permuted_score = model.score(X_permuted, y)\n",
        "    return permuted_score\n",
        "\n",
        "\n",
        "def get_feature_importance(model, X, y, curr_feat):\n",
        "    \"\"\"compare the score when curr_feat is permuted\"\"\"\n",
        "\n",
        "    baseline_score_train = model.score(X, y)\n",
        "    permuted_score_train = get_score_after_permutation(model, X, y, curr_feat)\n",
        "\n",
        "    # feature importance is the difference between the two scores\n",
        "    feature_importance = baseline_score_train - permuted_score_train\n",
        "    return feature_importance\n",
        "\n",
        "\n",
        "def permutation_importance(model, X, y, n_repeats=10):\n",
        "    \"\"\"Calculate importance score for each feature.\"\"\"\n",
        "\n",
        "    importances = []\n",
        "    for curr_feat in X.columns:\n",
        "        list_feature_importance = []\n",
        "        for n_round in range(n_repeats):\n",
        "            list_feature_importance.append(\n",
        "                get_feature_importance(model, X, y, curr_feat)\n",
        "            )\n",
        "\n",
        "        importances.append(list_feature_importance)\n",
        "\n",
        "    return {\n",
        "        \"importances_mean\": np.mean(importances, axis=1),\n",
        "        \"importances_std\": np.std(importances, axis=1),\n",
        "        \"importances\": importances,\n",
        "    }\n",
        "\n",
        "\n",
        "# This function could directly be access from sklearn\n",
        "# from sklearn.inspection import permutation_importance\n",
        "def plot_feature_importances(perm_importance_result, feat_name):\n",
        "    \"\"\"bar plot the feature importance\"\"\"\n",
        "\n",
        "    fig, ax = plt.subplots()\n",
        "\n",
        "    indices = perm_importance_result[\"importances_mean\"].argsort()\n",
        "    plt.barh(\n",
        "        range(len(indices)),\n",
        "        perm_importance_result[\"importances_mean\"][indices],\n",
        "        xerr=perm_importance_result[\"importances_std\"][indices],\n",
        "    )\n",
        "\n",
        "    ax.set_yticks(range(len(indices)))\n",
        "    _ = ax.set_yticklabels(feat_name[indices])\n",
        "perm_importance_result_train = permutation_importance(\n",
        "    model, X_train, y_train, n_repeats=10\n",
        ")\n",
        "\n",
        "plot_feature_importances(perm_importance_result_train, X_train.columns)"
      ]
    },
    {
      "cell_type": "markdown",
      "metadata": {
        "id": "anCbdu7bayu8"
      },
      "source": [
        "# Feature Analysis"
      ]
    },
    {
      "cell_type": "code",
      "execution_count": null,
      "metadata": {
        "colab": {
          "base_uri": "https://localhost:8080/"
        },
        "collapsed": true,
        "id": "2gI9oEBXniXC",
        "outputId": "92a6771d-6138-4952-b5a6-75f05825482c"
      },
      "outputs": [
        {
          "name": "stdout",
          "output_type": "stream",
          "text": [
            "Scaled X_train:\n",
            "[[-0.30799206  0.65546293  0.79268657 -0.55779198 -0.66191661 -0.19878863]\n",
            " [ 1.58941971 -1.29845728  0.79268657 -0.72936303 -0.04873393 -0.23462868]\n",
            " [-0.27031478  0.65523921  0.79268657 -0.81514855  0.15566029 -0.02470836]\n",
            " ...\n",
            " [ 3.23537864 -1.99180804  0.79268657 -0.72936303  0.56444875  2.37145528]\n",
            " [-0.38039947  0.4176466   0.79268657 -0.55779198 -1.27509928 -0.16806858]\n",
            " [-0.08437642  0.19741324  0.2466627  -0.38622093  0.15566029 -0.03494838]]\n",
            "Scaled X_test:\n",
            "[[-4.07977786e-01  4.78263643e-01  8.70689984e-01 -9.00934078e-01\n",
            "   7.68842971e-01  1.56761406e+00]\n",
            " [-4.87494265e-01  5.61857046e-01  8.70689984e-01 -9.00934078e-01\n",
            "   1.17763142e+00  1.00953321e+00]\n",
            " [-4.23806749e-01  4.21892587e-01 -2.17144303e+00  3.00063261e-01\n",
            "   1.58641987e+00 -5.87909219e-01]\n",
            " [-3.03110155e-01  5.38363410e-01  7.92686574e-01 -9.00934078e-01\n",
            "   1.58641987e+00  2.01817474e+00]\n",
            " [ 1.26915605e-01 -6.15065730e-01 -6.53509434e-02  3.85848785e-01\n",
            "  -1.68388773e+00 -7.61989484e-01]\n",
            " [-5.74833542e-01  6.67508365e-01  6.36679752e-01  1.50106060e+00\n",
            "  -2.09267619e+00 -9.82149818e-01]\n",
            " [-2.51826144e-01 -9.28234516e-02  7.14683163e-01  3.85848785e-01\n",
            "   3.60054520e-01 -3.47268853e-01]\n",
            " [-3.90451970e-01  2.83221635e-01 -6.53509434e-02 -5.57791981e-01\n",
            "  -8.66310833e-01  2.67132080e-01]\n",
            " [-5.35982546e-01  4.29287664e-01  7.14683163e-01 -8.15148554e-01\n",
            "   5.64448745e-01  1.99257470e+00]\n",
            " [-5.29894460e-01  5.06814872e-01 -1.78142598e+00  1.41527508e+00\n",
            "   3.60054520e-01 -1.04870992e+00]\n",
            " [-4.83023397e-02  8.46673092e-01 -1.07939528e+00  1.41527508e+00\n",
            "   7.68842971e-01 -1.13575005e+00]\n",
            " [-3.49621914e-01  5.30227817e-01  7.92686574e-01 -3.00435409e-01\n",
            "   5.64448745e-01 -3.06308791e-01]\n",
            " [-2.94411807e-01  1.57108986e-01  6.36679752e-01  1.32948955e+00\n",
            "  -8.66310833e-01 -1.02310988e+00]\n",
            " [ 5.07417653e-01 -9.09426651e-01  8.70689984e-01 -1.58721827e+00\n",
            "  -6.61916607e-01  1.94649463e+00]\n",
            " [-4.71314265e-01  5.95629508e-01  6.36679752e-01 -1.28864360e-01\n",
            "   1.79081410e+00 -3.98468931e-01]\n",
            " [-2.83607940e-01  3.61791355e-01 -2.99361175e-01 -1.24407618e+00\n",
            "   5.64448745e-01  2.05691987e-01]\n",
            " [ 6.84483680e-01 -1.08649571e+00  7.14683163e-01  2.14277737e-01\n",
            "  -2.53128157e-01 -4.49669009e-01]\n",
            " [ 3.37626898e+00 -2.02600473e+00  6.36679752e-01 -3.86220933e-01\n",
            "   3.60054520e-01 -3.31908830e-01]\n",
            " [-4.16148589e-01  6.06777922e-01  8.70689984e-01 -2.18771694e+00\n",
            "   9.73237196e-01  2.80153593e+00]\n",
            " [ 8.91829770e-01 -5.42967055e+00 -1.62541916e+00  2.10155927e+00\n",
            "  -1.68388773e+00 -1.12551004e+00]\n",
            " [-4.86524302e-01  7.73297825e-01  7.92686574e-01 -4.72006457e-01\n",
            "   1.55660294e-01 -1.21988511e-01]\n",
            " [-5.04767426e-01  2.25992622e-01  1.26524673e-02 -6.43577506e-01\n",
            "  -1.47949351e+00 -5.26469126e-01]\n",
            " [ 2.55708016e+00 -1.86684450e+00  8.70689984e-01 -6.43577506e-01\n",
            "   1.55660294e-01 -7.07884332e-02]\n",
            " [-5.45588402e-01  5.23291554e-01  7.92686574e-01  2.14277737e-01\n",
            "  -6.61916607e-01 -3.11428799e-01]\n",
            " [-5.23692744e-01  2.59393687e-01 -2.56146008e+00 -3.00435409e-01\n",
            "   9.73237196e-01 -4.95749079e-01]\n",
            " [-4.86765606e-01  5.80951780e-01 -1.93743280e+00 -3.00435409e-01\n",
            "  -2.29707041e+00 -3.52388861e-01]\n",
            " [-5.27378869e-01  2.80484136e-01 -1.23540210e+00  8.14776406e-01\n",
            "  -2.53128157e-01 -1.03846990e+00]\n",
            " [-4.85902300e-01  4.00083837e-01  6.36679752e-01 -3.86220933e-01\n",
            "  -4.87339311e-02 -2.85828760e-01]\n",
            " [-3.58159426e-01  5.39357678e-01  6.36679752e-01 -1.50143275e+00\n",
            "  -2.53128157e-01  2.08473484e+00]\n",
            " [-3.60821913e-01  4.24514224e-01  4.02669521e-01  6.43205358e-01\n",
            "  -1.07070506e+00 -1.17671011e+00]\n",
            " [-5.54214371e-01  6.33475142e-01 -6.11374818e-01  4.71634309e-01\n",
            "   5.64448745e-01 -6.49349312e-01]\n",
            " [ 2.28136899e+00 -1.89219788e+00  6.36679752e-01  2.53048689e+00\n",
            "  -1.07070506e+00 -1.09478999e+00]\n",
            " [ 1.92667004e+00 -1.74737411e+00  7.92686574e-01 -3.00435409e-01\n",
            "   3.60054520e-01 -3.37028838e-01]\n",
            " [-5.78931180e-01  6.30849774e-01 -2.71746691e+00  1.67263165e+00\n",
            "  -1.07070506e+00 -1.11015001e+00]\n",
            " [-4.88047688e-01  4.65370004e-01 -2.48345667e+00 -3.00435409e-01\n",
            "  -1.68388773e+00 -7.56869476e-01]\n",
            " [-4.24915876e-01  5.62715120e-01 -5.33371407e-01  6.43205358e-01\n",
            "  -2.53128157e-01 -5.87909219e-01]\n",
            " [-4.69718657e-01  5.00621097e-01 -1.31340551e+00  6.43205358e-01\n",
            "   1.58641987e+00 -6.08389250e-01]\n",
            " [-3.75886507e-01  4.43921622e-01  8.70689984e-01 -1.07250513e+00\n",
            "   1.58641987e+00  9.99293193e-01]\n",
            " [-4.97326938e-01  4.73335800e-01  7.14683163e-01 -1.28864360e-01\n",
            "   3.60054520e-01 -1.27108519e-01]\n",
            " [-4.53788575e-01  6.87999766e-01 -7.67381639e-01  5.57419834e-01\n",
            "  -1.07070506e+00 -4.54789017e-01]\n",
            " [-3.80458039e-01  5.49997298e-01 -6.89378229e-01  1.07213298e+00\n",
            "   3.60054520e-01 -8.95109686e-01]\n",
            " [-3.50374714e-01  4.02023002e-01  8.70689984e-01 -1.15829065e+00\n",
            "  -4.87339311e-02  8.20092921e-01]\n",
            " [ 3.14875308e+00 -1.94468300e+00  7.92686574e-01 -9.86719603e-01\n",
            "   9.73237196e-01  2.77372096e-01]\n",
            " [-3.18494637e-01 -2.49346271e-03 -9.23388461e-01  6.43205358e-01\n",
            "  -3.11464731e+00 -9.51429772e-01]\n",
            " [ 2.48152780e+00 -1.08777060e+00  2.46662699e-01  1.75841717e+00\n",
            "  -2.53128157e-01 -1.02310988e+00]\n",
            " [ 6.24091418e-01 -1.10504308e+00  6.36679752e-01 -9.00934078e-01\n",
            "  -2.53128157e-01  1.08633333e+00]\n",
            " [-5.12604865e-01  3.01070267e-01 -2.01543621e+00  2.14277737e-01\n",
            "  -8.66310833e-01 -4.65029032e-01]\n",
            " [-5.14950417e-01  3.80210627e-01  8.70689984e-01 -6.43577506e-01\n",
            "   1.55660294e-01  1.49081394e+00]\n",
            " [-3.91705293e-01  4.25213642e-01  8.70689984e-01 -5.57791981e-01\n",
            "   1.38202565e+00  7.33052789e-01]\n",
            " [-4.75175414e-01  5.48070077e-01  7.14683163e-01 -9.86719603e-01\n",
            "  -2.53128157e-01  1.28891870e-01]\n",
            " [-4.50885109e-01  2.72766550e-01  8.70689984e-01 -5.57791981e-01\n",
            "   1.38202565e+00  1.10681336e+00]\n",
            " [-2.94418276e-01  5.22228054e-01 -2.56146008e+00 -3.86220933e-01\n",
            "  -2.53128157e-01 -5.21349118e-01]\n",
            " [-5.15147688e-01  3.47983375e-01  4.02669521e-01  1.07213298e+00\n",
            "  -6.61916607e-01 -4.90629071e-01]\n",
            " [-2.23691271e-01  4.99755370e-01  7.92686574e-01 -9.86719603e-01\n",
            "   7.68842971e-01  4.30972329e-01]\n",
            " [ 1.38704462e+00 -1.67380951e+00  7.14683163e-01 -1.93036037e+00\n",
            "   3.60054520e-01  1.40889382e+00]\n",
            " [-4.01971475e-01  4.06635929e-01  8.70689984e-01 -9.86719603e-01\n",
            "   1.55660294e-01  6.46012656e-01]\n",
            " [ 1.78395034e+00 -1.72016596e+00  7.92686574e-01 -5.57791981e-01\n",
            "  -4.57522382e-01  3.02972135e-01]\n",
            " [-3.38192190e-01  7.11792757e-01  8.70689984e-01 -2.18771694e+00\n",
            "   5.64448745e-01  3.65145722e+00]\n",
            " [ 2.52938971e+00 -2.01430317e+00 -2.71746691e+00 -3.00435409e-01\n",
            "  -4.87339311e-02 -2.85828760e-01]\n",
            " [-5.54262485e-01  5.87404212e-01  8.70689984e-01 -3.00435409e-01\n",
            "   3.60054520e-01  5.18012462e-01]\n",
            " [-2.05958257e-01  8.46673092e-01  2.46662699e-01  1.28492212e-01\n",
            "  -1.88828196e+00 -8.13189561e-01]\n",
            " [-4.75481978e-01  3.53235709e-01  8.70689984e-01 -1.07250513e+00\n",
            "  -4.57522382e-01  9.02013045e-01]\n",
            " [-3.56717053e-01  3.50311695e-01 -2.63946349e+00 -1.07250513e+00\n",
            "   1.55660294e-01 -3.01188783e-01]\n",
            " [-3.62669405e-01  4.92896617e-01  1.26524673e-02 -6.43577506e-01\n",
            "  -2.53128157e-01  2.41532042e-01]\n",
            " [-3.09131297e-01  3.75453843e-01 -1.85942939e+00  1.84420270e+00\n",
            "   1.99520832e+00 -1.16135009e+00]\n",
            " [-3.58434845e-01  7.17313885e-01  8.70689984e-01 -2.53085904e+00\n",
            "   1.58641987e+00  3.98425773e+00]\n",
            " [-4.91396003e-01  6.12916499e-01 -2.17144303e+00  8.14776406e-01\n",
            "   1.17763142e+00 -6.18629266e-01]\n",
            " [-3.92452676e-01  5.29422206e-01  8.70689984e-01 -8.15148554e-01\n",
            "   5.64448745e-01  6.76732703e-01]\n",
            " [-1.54846215e-01  2.77481055e-01  8.70689984e-01 -1.15829065e+00\n",
            "   5.64448745e-01  8.61052983e-01]\n",
            " [-4.03685710e-01  4.06836282e-01 -3.49750101e+00  1.67263165e+00\n",
            "  -1.88828196e+00 -9.51429772e-01]\n",
            " [-4.58593742e-01  2.05315443e-02 -1.31340551e+00  3.00063261e-01\n",
            "  -4.87339311e-02 -5.93029227e-01]\n",
            " [-4.55494907e-01 -6.61688036e+00 -3.77364586e-01  1.67263165e+00\n",
            "  -1.07070506e+00 -1.05894993e+00]\n",
            " [-3.69855420e-01  6.73361732e-01  9.06558779e-02 -4.30788360e-02\n",
            "  -4.57522382e-01 -5.21349118e-01]\n",
            " [ 3.58417383e+00 -1.99552950e+00  7.14683163e-01 -1.67300380e+00\n",
            "  -4.87339311e-02  2.20249502e+00]\n",
            " [-3.32719321e-01  7.20478233e-01  8.70689984e-01 -2.18771694e+00\n",
            "   3.60054520e-01  2.39705532e+00]\n",
            " [-4.34126904e-01  4.22441022e-01  8.70689984e-01 -4.72006457e-01\n",
            "   1.38202565e+00  1.17849347e+00]\n",
            " [-3.88596707e-01  5.39953448e-01  7.14683163e-01 -1.93036037e+00\n",
            "  -4.57522382e-01  1.71609428e+00]\n",
            " [ 7.22642818e-01 -9.93891653e-01  5.58676342e-01 -1.75878932e+00\n",
            "  -8.66310833e-01  2.05913480e+00]\n",
            " [-3.99034748e-01  2.75870191e-01 -5.33371407e-01 -3.00435409e-01\n",
            "   5.64448745e-01 -5.03084020e-02]\n",
            " [-5.00963196e-01  2.99380967e-01 -2.21357765e-01 -1.28864360e-01\n",
            "  -2.09267619e+00 -6.33989289e-01]\n",
            " [-5.23818363e-01  4.23642263e-01  8.70689984e-01 -6.43577506e-01\n",
            "  -4.57522382e-01  7.79132859e-01]\n",
            " [-4.73658689e-01  3.83697165e-01  7.14683163e-01 -6.43577506e-01\n",
            "   7.68842971e-01  1.30649366e+00]\n",
            " [ 5.73744242e+00 -2.72004798e+00  7.14683163e-01 -4.30788360e-02\n",
            "   1.79081410e+00 -3.77988900e-01]\n",
            " [-4.87381179e-01  4.23223904e-02  4.02669521e-01  2.10155927e+00\n",
            "   1.17763142e+00 -9.71909803e-01]\n",
            " [-5.03781856e-01 -2.90514528e-02  1.68659289e-01  2.01577375e+00\n",
            "  -8.66310833e-01 -1.08454997e+00]\n",
            " [-4.47134479e-01  5.18075971e-01  4.80672931e-01 -7.29363030e-01\n",
            "  -1.27509928e+00 -2.47083631e-02]\n",
            " [-4.49766263e-01  3.93976041e-01  6.36679752e-01 -7.29363030e-01\n",
            "  -4.87339311e-02 -2.49988706e-01]\n",
            " [-4.49335255e-01  2.90308006e-01  7.14683163e-01 -7.29363030e-01\n",
            "   7.68842971e-01  1.95451971e-01]\n",
            " [-5.14019151e-01  4.23196842e-01  8.70689984e-01 -3.86220933e-01\n",
            "   5.64448745e-01  8.71292999e-01]\n",
            " [ 2.48300172e+00 -2.23969398e+00  7.92686574e-01 -8.15148554e-01\n",
            "  -2.53128157e-01  2.13717069e-02]\n",
            " [-3.06303346e-01  4.46354189e-01 -2.99361175e-01 -3.86220933e-01\n",
            "  -4.57522382e-01 -2.29508674e-01]\n",
            " [-4.08292965e-01  6.11710291e-01  7.14683163e-01 -3.00435409e-01\n",
            "  -4.57522382e-01  2.00571979e-01]\n",
            " [-3.85253472e-01  2.26836620e-01 -1.43354354e-01  1.92998822e+00\n",
            "  -4.57522382e-01 -1.12039003e+00]\n",
            " [-4.94202980e-01  4.29238837e-01  7.14683163e-01 -4.72006457e-01\n",
            "   5.64448745e-01 -6.05484176e-02]\n",
            " [-3.47961984e-01  4.24710575e-01 -1.31340551e+00  1.07213298e+00\n",
            "  -2.29707041e+00 -8.28549585e-01]\n",
            " [-3.61874558e-01  5.85056731e-01  1.68659289e-01 -3.86220933e-01\n",
            "  -4.87339311e-02 -5.31589133e-01]\n",
            " [-4.55841286e-01  6.56915449e-01  3.24666110e-01  7.28990882e-01\n",
            "  -6.61916607e-01 -7.67109491e-01]\n",
            " [-5.66107382e-01  3.64805130e-01 -3.77364586e-01  9.00561931e-01\n",
            "   7.68842971e-01 -6.39109297e-01]\n",
            " [-5.95079370e-01  6.59412009e-01 -2.09343962e+00  5.57419834e-01\n",
            "  -1.68388773e+00 -1.12039003e+00]\n",
            " [ 1.86025478e+00 -1.81741784e+00 -1.00139187e+00 -1.28864360e-01\n",
            "  -6.61916607e-01 -3.77988900e-01]\n",
            " [-5.24592155e-01  5.15898559e-01 -8.45385050e-01  1.75841717e+00\n",
            "  -2.53128157e-01 -9.41189756e-01]\n",
            " [ 2.85503852e+00 -1.91941210e+00  5.58676342e-01 -9.86719603e-01\n",
            "  -6.61916607e-01  5.20917536e-02]\n",
            " [-4.40502982e-01  3.20095858e-01 -3.77364586e-01  1.67263165e+00\n",
            "   1.55660294e-01 -9.46309764e-01]\n",
            " [-3.79802679e-01  4.94693608e-01  1.68659289e-01 -9.86719603e-01\n",
            "  -2.53128157e-01  1.75705434e+00]\n",
            " [-4.79388321e-01  3.06791743e-01  1.68659289e-01 -6.43577506e-01\n",
            "   1.58641987e+00  1.06073329e+00]\n",
            " [-3.94909003e-01  4.39212105e-01  8.70689984e-01 -1.84457485e+00\n",
            "   9.73237196e-01  2.12569491e+00]\n",
            " [-3.82232326e-01  5.72997230e-01  8.70689984e-01 -2.18771694e+00\n",
            "   5.64448745e-01  2.66329572e+00]\n",
            " [ 9.78915958e-01 -1.31769012e+00  8.70689984e-01 -8.15148554e-01\n",
            "   5.64448745e-01  1.31161367e+00]\n",
            " [-4.31627619e-01 -3.48029182e-02  4.02669521e-01  6.43205358e-01\n",
            "  -1.27509928e+00 -5.98149235e-01]\n",
            " [ 2.29917385e+00 -1.61345095e+00  8.70689984e-01 -2.18771694e+00\n",
            "   1.17763142e+00  2.98073620e+00]\n",
            " [-4.19766686e-01  4.34420278e-01  7.92686574e-01 -6.43577506e-01\n",
            "   5.64448745e-01  4.05372291e-01]\n",
            " [ 3.04944318e-02 -1.01107441e+00 -2.21357765e-01  1.28492212e-01\n",
            "   1.38202565e+00 -2.60228721e-01]\n",
            " [-3.36622376e-01 -1.65599334e-02 -2.99361175e-01  9.86347455e-01\n",
            "  -1.88828196e+00 -9.15589717e-01]\n",
            " [-2.00174059e-01  5.13782589e-01  8.70689984e-01 -1.07250513e+00\n",
            "   1.99520832e+00  9.02013045e-01]\n",
            " [ 3.05552758e+00 -2.09134807e+00  8.70689984e-01 -7.29363030e-01\n",
            "   3.60054520e-01  7.33052789e-01]\n",
            " [-2.77146730e-01  2.88183818e-01 -9.23388461e-01 -3.00435409e-01\n",
            "  -1.07070506e+00 -5.62309180e-01]\n",
            " [-3.85544043e-01  3.88152903e-01  7.14683163e-01 -9.00934078e-01\n",
            "   9.73237196e-01  1.10681336e+00]\n",
            " [-2.97108366e-01  2.04858787e-01  7.92686574e-01 -6.43577506e-01\n",
            "  -4.57522382e-01 -9.34833977e-03]\n",
            " [-4.47842689e-01  5.37304934e-01  7.92686574e-01 -1.07250513e+00\n",
            "  -2.53128157e-01  5.79452555e-01]\n",
            " [-2.95229862e-01  1.86542184e-01  9.06558779e-02  2.14277737e-01\n",
            "  -6.61916607e-01 -5.87909219e-01]\n",
            " [-4.48221068e-01  2.64326412e-01  7.14683163e-01  5.57419834e-01\n",
            "  -2.53128157e-01 -3.11428799e-01]\n",
            " [-4.01566977e-01  3.82690967e-01 -1.43354354e-01 -3.00435409e-01\n",
            "  -4.57522382e-01  1.08411839e-01]\n",
            " [-4.47838815e-01  4.22652895e-01  6.36679752e-01 -1.24407618e+00\n",
            "  -2.53128157e-01  8.25212929e-01]\n",
            " [-2.93072689e-01  4.60432971e-01  8.70689984e-01 -3.00435409e-01\n",
            "  -6.61916607e-01 -3.06308791e-01]\n",
            " [-5.29896829e-01  5.09538041e-01 -1.78142598e+00  1.41527508e+00\n",
            "   3.60054520e-01 -1.04870992e+00]\n",
            " [-5.74995053e-01  6.12357686e-01  2.46662699e-01  1.84420270e+00\n",
            "   9.73237196e-01 -1.01286986e+00]\n",
            " [ 1.27739585e+00 -1.96158794e+00 -9.23388461e-01  6.43205358e-01\n",
            "  -1.88828196e+00 -8.49029616e-01]\n",
            " [-4.01416483e-01  7.61404917e-01  7.92686574e-01 -2.14649885e-01\n",
            "  -2.53128157e-01 -2.44868698e-01]\n",
            " [ 6.73032603e-01 -1.09900221e+00  4.02669521e-01  3.00063261e-01\n",
            "  -1.27509928e+00 -1.57828565e-01]\n",
            " [-4.80073933e-01  4.52776342e-01  4.80672931e-01 -6.43577506e-01\n",
            "  -2.29707041e+00 -3.26788822e-01]\n",
            " [-8.65156989e-02  4.19520972e-01  4.02669521e-01  1.41527508e+00\n",
            "  -2.50146464e+00 -9.56549779e-01]\n",
            " [ 6.32523673e-01 -1.10613863e+00  8.70689984e-01 -1.75878932e+00\n",
            "  -1.27509928e+00  1.66489420e+00]\n",
            " [-4.40561519e-01  4.83751767e-01  8.70689984e-01 -1.32986170e+00\n",
            "   5.64448745e-01  1.61881413e+00]\n",
            " [-5.19309844e-01  2.43474212e-01 -1.46941234e+00  8.14776406e-01\n",
            "  -2.29707041e+00 -9.71909803e-01]\n",
            " [-5.15771484e-01  2.32798165e-01 -6.11374818e-01  4.27066882e-02\n",
            "  -1.88828196e+00 -7.46629460e-01]\n",
            " [-4.75524564e-01  5.47735919e-01  9.06558779e-02 -4.30788360e-02\n",
            "   9.73237196e-01 -4.54789017e-01]\n",
            " [-4.09765841e-01  5.35617822e-01 -2.24944644e+00  4.71634309e-01\n",
            "   1.79081410e+00 -4.75269048e-01]\n",
            " [-1.35642087e-01  4.35659314e-02  7.92686574e-01 -4.72006457e-01\n",
            "   3.60054520e-01  4.25852322e-01]\n",
            " [-4.61942020e-01  4.78577374e-01  4.80672931e-01 -5.57791981e-01\n",
            "  -2.53128157e-01  2.31292026e-01]\n",
            " [-4.76941907e-01  5.71792722e-01 -1.00139187e+00  3.00063261e-01\n",
            "  -4.87339311e-02 -8.69509647e-01]\n",
            " [-4.53075657e-01  4.13199550e-01 -5.33371407e-01  3.00063261e-01\n",
            "  -2.53128157e-01 -5.98149235e-01]\n",
            " [-4.12096659e-01  3.52557209e-01  2.46662699e-01  3.85848785e-01\n",
            "  -1.47949351e+00 -9.63884721e-02]\n",
            " [ 1.37673382e+00 -2.48817093e+00  1.26524673e-02  2.61627242e+00\n",
            "   2.60839100e+00 -1.16135009e+00]\n",
            " [-3.54908660e-01  4.75849889e-01  8.70689984e-01 -1.24407618e+00\n",
            "   5.64448745e-01  7.33052789e-01]\n",
            " [-4.83592587e-01  4.43509365e-01  7.92686574e-01 -1.32986170e+00\n",
            "   3.60054520e-01  2.51993550e+00]\n",
            " [-3.70329904e-01  4.46786847e-01  1.26524673e-02  4.27066882e-02\n",
            "  -6.61916607e-01 -4.39428993e-01]\n",
            " [ 6.09986763e-01 -1.03542238e+00 -6.53509434e-02 -6.43577506e-01\n",
            "  -6.61916607e-01 -4.80389056e-01]\n",
            " [ 1.45048455e+00 -1.90726411e+00  7.92686574e-01 -1.41564722e+00\n",
            "   5.64448745e-01  3.38812189e-01]\n",
            " [-5.37150912e-01  2.09114507e-01 -9.23388461e-01  4.71634309e-01\n",
            "   3.60054520e-01 -4.65029032e-01]\n",
            " [-5.01985331e-01  6.25845037e-01 -1.31340551e+00  1.24370403e+00\n",
            "  -1.88828196e+00 -1.13063004e+00]\n",
            " [ 1.75020123e+00 -1.90848403e+00  8.70689984e-01  1.32948955e+00\n",
            "   2.60839100e+00 -1.16647010e+00]\n",
            " [-5.17224297e-01  4.10327285e-01 -1.31340551e+00  2.14277737e-01\n",
            "  -1.07070506e+00 -6.74949351e-01]\n",
            " [-5.04134141e-01  6.47277962e-01 -5.33371407e-01  7.28990882e-01\n",
            "   3.60054520e-01 -9.00229694e-01]\n",
            " [ 1.52953959e+00 -1.29310281e+00 -5.33371407e-01  1.15791850e+00\n",
            "  -2.53128157e-01 -1.10503001e+00]\n",
            " [-2.05568444e-01  5.76571397e-01  8.70689984e-01 -1.67300380e+00\n",
            "  -2.53128157e-01  1.56249405e+00]\n",
            " [-4.57210415e-01  4.21442539e-01 -5.33371407e-01 -1.28864360e-01\n",
            "  -1.88828196e+00 -5.82789211e-01]\n",
            " [-3.54137341e-01  1.92117304e-01 -2.99361175e-01  1.24370403e+00\n",
            "  -1.07070506e+00 -1.09478999e+00]\n",
            " [-5.60529948e-01  5.67035458e-01  8.70689984e-01 -3.86220933e-01\n",
            "   1.58641987e+00  9.63453139e-01]\n",
            " [-3.72632769e-01  2.08402838e-01  5.58676342e-01 -6.43577506e-01\n",
            "   3.60054520e-01  5.48732508e-01]\n",
            " [-3.45686934e-01  1.65819602e-01 -1.46941234e+00  8.14776406e-01\n",
            "  -4.87339311e-02 -8.23429577e-01]\n",
            " [-3.16547097e-01  3.42615384e-01  7.92686574e-01 -7.29363030e-01\n",
            "  -2.53128157e-01  4.51452361e-01]\n",
            " [ 3.98276584e+00 -2.20195921e+00  8.70689984e-01 -1.32986170e+00\n",
            "   3.60054520e-01  1.28601363e+00]\n",
            " [ 1.64976181e+00 -1.72599183e+00  1.26524673e-02 -1.32986170e+00\n",
            "   5.64448745e-01  1.15289343e+00]\n",
            " [-5.25492000e-01  2.18910525e-01  1.68659289e-01  1.75841717e+00\n",
            "  -2.09267619e+00 -9.20709725e-01]\n",
            " [-4.92864595e-01  4.69461778e-01 -4.55367997e-01 -9.00934078e-01\n",
            "  -4.57522382e-01  6.97212734e-01]]\n"
          ]
        }
      ],
      "source": [
        "from sklearn.preprocessing import StandardScaler\n",
        "\n",
        "\n",
        "\n",
        "# Initialize the StandardScaler\n",
        "scaler = StandardScaler()\n",
        "\n",
        "# Fit the scaler on the training data\n",
        "scaler.fit(X_train)\n",
        "\n",
        "# Transform the training data\n",
        "X_train = scaler.transform(X_train)\n",
        "\n",
        "# Transform the testing data\n",
        "X_test = scaler.transform(X_test)\n",
        "\n",
        "# Output the results\n",
        "print(\"Scaled X_train:\")\n",
        "print(X_train)\n",
        "\n",
        "print(\"Scaled X_test:\")\n",
        "print(X_test)"
      ]
    },
    {
      "cell_type": "code",
      "execution_count": null,
      "metadata": {
        "colab": {
          "base_uri": "https://localhost:8080/"
        },
        "id": "u1Ag8AA6oSkk",
        "outputId": "f5689017-b095-4ade-9126-702542d05954"
      },
      "outputs": [
        {
          "data": {
            "text/plain": [
              "812"
            ]
          },
          "execution_count": 55,
          "metadata": {},
          "output_type": "execute_result"
        }
      ],
      "source": [
        "len(X_train)"
      ]
    },
    {
      "cell_type": "code",
      "execution_count": null,
      "metadata": {
        "colab": {
          "base_uri": "https://localhost:8080/",
          "height": 441
        },
        "id": "cSNUL_L8Zt3W",
        "outputId": "c6212af6-ea28-4dd9-8778-df5f5bb3ec13"
      },
      "outputs": [
        {
          "data": {
            "application/vnd.google.colaboratory.intrinsic+json": {
              "summary": "{\n  \"name\": \"final_combined\",\n  \"rows\": 812,\n  \"fields\": [\n    {\n      \"column\": \"Mean hesitation\",\n      \"properties\": {\n        \"dtype\": \"number\",\n        \"std\": 0.560746179665729,\n        \"min\": 0.039587,\n        \"max\": 3.625933135,\n        \"num_unique_values\": 744,\n        \"samples\": [\n          0.1495903523,\n          1.628331386,\n          0.2041721369\n        ],\n        \"semantic_type\": \"\",\n        \"description\": \"\"\n      }\n    },\n    {\n      \"column\": \"Mean conf\",\n      \"properties\": {\n        \"dtype\": \"number\",\n        \"std\": 0.12142680418850901,\n        \"min\": 0.1273913923,\n        \"max\": 0.98495344,\n        \"num_unique_values\": 744,\n        \"samples\": [\n          0.9614901135,\n          0.6800625,\n          0.941158247\n        ],\n        \"semantic_type\": \"\",\n        \"description\": \"\"\n      }\n    },\n    {\n      \"column\": \"Grammar point\",\n      \"properties\": {\n        \"dtype\": \"number\",\n        \"std\": 12.827853609913108,\n        \"min\": 43.0,\n        \"max\": 100.0,\n        \"num_unique_values\": 163,\n        \"samples\": [\n          99.8235799142103,\n          69.80608829005054,\n          98.5454173625918\n        ],\n        \"semantic_type\": \"\",\n        \"description\": \"\"\n      }\n    },\n    {\n      \"column\": \"Unique word\",\n      \"properties\": {\n        \"dtype\": \"number\",\n        \"std\": 11.664162942665921,\n        \"min\": 24.0,\n        \"max\": 94.0,\n        \"num_unique_values\": 178,\n        \"samples\": [\n          70.0,\n          87.0,\n          44.11761339052647\n        ],\n        \"semantic_type\": \"\",\n        \"description\": \"\"\n      }\n    },\n    {\n      \"column\": \"Rare word\",\n      \"properties\": {\n        \"dtype\": \"number\",\n        \"std\": 4.895521537677011,\n        \"min\": 0.0,\n        \"max\": 36.0,\n        \"num_unique_values\": 150,\n        \"samples\": [\n          15.201743226264965,\n          29.0,\n          16.476140006696003\n        ],\n        \"semantic_type\": \"\",\n        \"description\": \"\"\n      }\n    },\n    {\n      \"column\": \"Number of word\",\n      \"properties\": {\n        \"dtype\": \"number\",\n        \"std\": 195.43258049097534,\n        \"min\": 33.0,\n        \"max\": 1207.0,\n        \"num_unique_values\": 486,\n        \"samples\": [\n          215.0,\n          273.0,\n          277.0\n        ],\n        \"semantic_type\": \"\",\n        \"description\": \"\"\n      }\n    },\n    {\n      \"column\": \"Score\",\n      \"properties\": {\n        \"dtype\": \"number\",\n        \"std\": 9.893715181483978,\n        \"min\": 40.0,\n        \"max\": 80.0,\n        \"num_unique_values\": 8,\n        \"samples\": [\n          60.0,\n          45.0,\n          55.0\n        ],\n        \"semantic_type\": \"\",\n        \"description\": \"\"\n      }\n    }\n  ]\n}",
              "type": "dataframe",
              "variable_name": "final_combined"
            },
            "text/html": [
              "\n",
              "  <div id=\"df-79895e61-d2fd-4296-8f5d-eb0915017010\" class=\"colab-df-container\">\n",
              "    <div>\n",
              "<style scoped>\n",
              "    .dataframe tbody tr th:only-of-type {\n",
              "        vertical-align: middle;\n",
              "    }\n",
              "\n",
              "    .dataframe tbody tr th {\n",
              "        vertical-align: top;\n",
              "    }\n",
              "\n",
              "    .dataframe thead th {\n",
              "        text-align: right;\n",
              "    }\n",
              "</style>\n",
              "<table border=\"1\" class=\"dataframe\">\n",
              "  <thead>\n",
              "    <tr style=\"text-align: right;\">\n",
              "      <th></th>\n",
              "      <th>Mean hesitation</th>\n",
              "      <th>Mean conf</th>\n",
              "      <th>Grammar point</th>\n",
              "      <th>Unique word</th>\n",
              "      <th>Rare word</th>\n",
              "      <th>Number of word</th>\n",
              "      <th>Score</th>\n",
              "    </tr>\n",
              "  </thead>\n",
              "  <tbody>\n",
              "    <tr>\n",
              "      <th>0</th>\n",
              "      <td>0.212820</td>\n",
              "      <td>0.976796</td>\n",
              "      <td>99.0</td>\n",
              "      <td>52.0</td>\n",
              "      <td>16.0</td>\n",
              "      <td>223.0</td>\n",
              "      <td>55.0</td>\n",
              "    </tr>\n",
              "    <tr>\n",
              "      <th>1</th>\n",
              "      <td>1.276131</td>\n",
              "      <td>0.739684</td>\n",
              "      <td>99.0</td>\n",
              "      <td>50.0</td>\n",
              "      <td>19.0</td>\n",
              "      <td>216.0</td>\n",
              "      <td>55.0</td>\n",
              "    </tr>\n",
              "    <tr>\n",
              "      <th>2</th>\n",
              "      <td>0.233935</td>\n",
              "      <td>0.976769</td>\n",
              "      <td>99.0</td>\n",
              "      <td>49.0</td>\n",
              "      <td>20.0</td>\n",
              "      <td>257.0</td>\n",
              "      <td>55.0</td>\n",
              "    </tr>\n",
              "    <tr>\n",
              "      <th>3</th>\n",
              "      <td>0.155683</td>\n",
              "      <td>0.943088</td>\n",
              "      <td>99.0</td>\n",
              "      <td>62.0</td>\n",
              "      <td>17.0</td>\n",
              "      <td>226.0</td>\n",
              "      <td>55.0</td>\n",
              "    </tr>\n",
              "    <tr>\n",
              "      <th>4</th>\n",
              "      <td>0.158567</td>\n",
              "      <td>0.945801</td>\n",
              "      <td>74.0</td>\n",
              "      <td>55.0</td>\n",
              "      <td>19.0</td>\n",
              "      <td>177.0</td>\n",
              "      <td>55.0</td>\n",
              "    </tr>\n",
              "    <tr>\n",
              "      <th>...</th>\n",
              "      <td>...</td>\n",
              "      <td>...</td>\n",
              "      <td>...</td>\n",
              "      <td>...</td>\n",
              "      <td>...</td>\n",
              "      <td>...</td>\n",
              "      <td>...</td>\n",
              "    </tr>\n",
              "    <tr>\n",
              "      <th>295</th>\n",
              "      <td>0.238973</td>\n",
              "      <td>0.937016</td>\n",
              "      <td>92.0</td>\n",
              "      <td>68.0</td>\n",
              "      <td>16.0</td>\n",
              "      <td>152.0</td>\n",
              "      <td>50.0</td>\n",
              "    </tr>\n",
              "    <tr>\n",
              "      <th>296</th>\n",
              "      <td>1.723826</td>\n",
              "      <td>0.226841</td>\n",
              "      <td>97.0</td>\n",
              "      <td>54.0</td>\n",
              "      <td>22.0</td>\n",
              "      <td>345.0</td>\n",
              "      <td>50.0</td>\n",
              "    </tr>\n",
              "    <tr>\n",
              "      <th>297</th>\n",
              "      <td>2.198528</td>\n",
              "      <td>0.655545</td>\n",
              "      <td>99.0</td>\n",
              "      <td>50.0</td>\n",
              "      <td>22.0</td>\n",
              "      <td>725.0</td>\n",
              "      <td>50.0</td>\n",
              "    </tr>\n",
              "    <tr>\n",
              "      <th>298</th>\n",
              "      <td>0.172243</td>\n",
              "      <td>0.947937</td>\n",
              "      <td>99.0</td>\n",
              "      <td>52.0</td>\n",
              "      <td>13.0</td>\n",
              "      <td>229.0</td>\n",
              "      <td>50.0</td>\n",
              "    </tr>\n",
              "    <tr>\n",
              "      <th>299</th>\n",
              "      <td>0.338135</td>\n",
              "      <td>0.921211</td>\n",
              "      <td>92.0</td>\n",
              "      <td>54.0</td>\n",
              "      <td>20.0</td>\n",
              "      <td>255.0</td>\n",
              "      <td>50.0</td>\n",
              "    </tr>\n",
              "  </tbody>\n",
              "</table>\n",
              "<p>812 rows × 7 columns</p>\n",
              "</div>\n",
              "    <div class=\"colab-df-buttons\">\n",
              "\n",
              "  <div class=\"colab-df-container\">\n",
              "    <button class=\"colab-df-convert\" onclick=\"convertToInteractive('df-79895e61-d2fd-4296-8f5d-eb0915017010')\"\n",
              "            title=\"Convert this dataframe to an interactive table.\"\n",
              "            style=\"display:none;\">\n",
              "\n",
              "  <svg xmlns=\"http://www.w3.org/2000/svg\" height=\"24px\" viewBox=\"0 -960 960 960\">\n",
              "    <path d=\"M120-120v-720h720v720H120Zm60-500h600v-160H180v160Zm220 220h160v-160H400v160Zm0 220h160v-160H400v160ZM180-400h160v-160H180v160Zm440 0h160v-160H620v160ZM180-180h160v-160H180v160Zm440 0h160v-160H620v160Z\"/>\n",
              "  </svg>\n",
              "    </button>\n",
              "\n",
              "  <style>\n",
              "    .colab-df-container {\n",
              "      display:flex;\n",
              "      gap: 12px;\n",
              "    }\n",
              "\n",
              "    .colab-df-convert {\n",
              "      background-color: #E8F0FE;\n",
              "      border: none;\n",
              "      border-radius: 50%;\n",
              "      cursor: pointer;\n",
              "      display: none;\n",
              "      fill: #1967D2;\n",
              "      height: 32px;\n",
              "      padding: 0 0 0 0;\n",
              "      width: 32px;\n",
              "    }\n",
              "\n",
              "    .colab-df-convert:hover {\n",
              "      background-color: #E2EBFA;\n",
              "      box-shadow: 0px 1px 2px rgba(60, 64, 67, 0.3), 0px 1px 3px 1px rgba(60, 64, 67, 0.15);\n",
              "      fill: #174EA6;\n",
              "    }\n",
              "\n",
              "    .colab-df-buttons div {\n",
              "      margin-bottom: 4px;\n",
              "    }\n",
              "\n",
              "    [theme=dark] .colab-df-convert {\n",
              "      background-color: #3B4455;\n",
              "      fill: #D2E3FC;\n",
              "    }\n",
              "\n",
              "    [theme=dark] .colab-df-convert:hover {\n",
              "      background-color: #434B5C;\n",
              "      box-shadow: 0px 1px 3px 1px rgba(0, 0, 0, 0.15);\n",
              "      filter: drop-shadow(0px 1px 2px rgba(0, 0, 0, 0.3));\n",
              "      fill: #FFFFFF;\n",
              "    }\n",
              "  </style>\n",
              "\n",
              "    <script>\n",
              "      const buttonEl =\n",
              "        document.querySelector('#df-79895e61-d2fd-4296-8f5d-eb0915017010 button.colab-df-convert');\n",
              "      buttonEl.style.display =\n",
              "        google.colab.kernel.accessAllowed ? 'block' : 'none';\n",
              "\n",
              "      async function convertToInteractive(key) {\n",
              "        const element = document.querySelector('#df-79895e61-d2fd-4296-8f5d-eb0915017010');\n",
              "        const dataTable =\n",
              "          await google.colab.kernel.invokeFunction('convertToInteractive',\n",
              "                                                    [key], {});\n",
              "        if (!dataTable) return;\n",
              "\n",
              "        const docLinkHtml = 'Like what you see? Visit the ' +\n",
              "          '<a target=\"_blank\" href=https://colab.research.google.com/notebooks/data_table.ipynb>data table notebook</a>'\n",
              "          + ' to learn more about interactive tables.';\n",
              "        element.innerHTML = '';\n",
              "        dataTable['output_type'] = 'display_data';\n",
              "        await google.colab.output.renderOutput(dataTable, element);\n",
              "        const docLink = document.createElement('div');\n",
              "        docLink.innerHTML = docLinkHtml;\n",
              "        element.appendChild(docLink);\n",
              "      }\n",
              "    </script>\n",
              "  </div>\n",
              "\n",
              "\n",
              "<div id=\"df-7273ef93-e07f-40cd-b6cb-0c3f1fe73d08\">\n",
              "  <button class=\"colab-df-quickchart\" onclick=\"quickchart('df-7273ef93-e07f-40cd-b6cb-0c3f1fe73d08')\"\n",
              "            title=\"Suggest charts\"\n",
              "            style=\"display:none;\">\n",
              "\n",
              "<svg xmlns=\"http://www.w3.org/2000/svg\" height=\"24px\"viewBox=\"0 0 24 24\"\n",
              "     width=\"24px\">\n",
              "    <g>\n",
              "        <path d=\"M19 3H5c-1.1 0-2 .9-2 2v14c0 1.1.9 2 2 2h14c1.1 0 2-.9 2-2V5c0-1.1-.9-2-2-2zM9 17H7v-7h2v7zm4 0h-2V7h2v10zm4 0h-2v-4h2v4z\"/>\n",
              "    </g>\n",
              "</svg>\n",
              "  </button>\n",
              "\n",
              "<style>\n",
              "  .colab-df-quickchart {\n",
              "      --bg-color: #E8F0FE;\n",
              "      --fill-color: #1967D2;\n",
              "      --hover-bg-color: #E2EBFA;\n",
              "      --hover-fill-color: #174EA6;\n",
              "      --disabled-fill-color: #AAA;\n",
              "      --disabled-bg-color: #DDD;\n",
              "  }\n",
              "\n",
              "  [theme=dark] .colab-df-quickchart {\n",
              "      --bg-color: #3B4455;\n",
              "      --fill-color: #D2E3FC;\n",
              "      --hover-bg-color: #434B5C;\n",
              "      --hover-fill-color: #FFFFFF;\n",
              "      --disabled-bg-color: #3B4455;\n",
              "      --disabled-fill-color: #666;\n",
              "  }\n",
              "\n",
              "  .colab-df-quickchart {\n",
              "    background-color: var(--bg-color);\n",
              "    border: none;\n",
              "    border-radius: 50%;\n",
              "    cursor: pointer;\n",
              "    display: none;\n",
              "    fill: var(--fill-color);\n",
              "    height: 32px;\n",
              "    padding: 0;\n",
              "    width: 32px;\n",
              "  }\n",
              "\n",
              "  .colab-df-quickchart:hover {\n",
              "    background-color: var(--hover-bg-color);\n",
              "    box-shadow: 0 1px 2px rgba(60, 64, 67, 0.3), 0 1px 3px 1px rgba(60, 64, 67, 0.15);\n",
              "    fill: var(--button-hover-fill-color);\n",
              "  }\n",
              "\n",
              "  .colab-df-quickchart-complete:disabled,\n",
              "  .colab-df-quickchart-complete:disabled:hover {\n",
              "    background-color: var(--disabled-bg-color);\n",
              "    fill: var(--disabled-fill-color);\n",
              "    box-shadow: none;\n",
              "  }\n",
              "\n",
              "  .colab-df-spinner {\n",
              "    border: 2px solid var(--fill-color);\n",
              "    border-color: transparent;\n",
              "    border-bottom-color: var(--fill-color);\n",
              "    animation:\n",
              "      spin 1s steps(1) infinite;\n",
              "  }\n",
              "\n",
              "  @keyframes spin {\n",
              "    0% {\n",
              "      border-color: transparent;\n",
              "      border-bottom-color: var(--fill-color);\n",
              "      border-left-color: var(--fill-color);\n",
              "    }\n",
              "    20% {\n",
              "      border-color: transparent;\n",
              "      border-left-color: var(--fill-color);\n",
              "      border-top-color: var(--fill-color);\n",
              "    }\n",
              "    30% {\n",
              "      border-color: transparent;\n",
              "      border-left-color: var(--fill-color);\n",
              "      border-top-color: var(--fill-color);\n",
              "      border-right-color: var(--fill-color);\n",
              "    }\n",
              "    40% {\n",
              "      border-color: transparent;\n",
              "      border-right-color: var(--fill-color);\n",
              "      border-top-color: var(--fill-color);\n",
              "    }\n",
              "    60% {\n",
              "      border-color: transparent;\n",
              "      border-right-color: var(--fill-color);\n",
              "    }\n",
              "    80% {\n",
              "      border-color: transparent;\n",
              "      border-right-color: var(--fill-color);\n",
              "      border-bottom-color: var(--fill-color);\n",
              "    }\n",
              "    90% {\n",
              "      border-color: transparent;\n",
              "      border-bottom-color: var(--fill-color);\n",
              "    }\n",
              "  }\n",
              "</style>\n",
              "\n",
              "  <script>\n",
              "    async function quickchart(key) {\n",
              "      const quickchartButtonEl =\n",
              "        document.querySelector('#' + key + ' button');\n",
              "      quickchartButtonEl.disabled = true;  // To prevent multiple clicks.\n",
              "      quickchartButtonEl.classList.add('colab-df-spinner');\n",
              "      try {\n",
              "        const charts = await google.colab.kernel.invokeFunction(\n",
              "            'suggestCharts', [key], {});\n",
              "      } catch (error) {\n",
              "        console.error('Error during call to suggestCharts:', error);\n",
              "      }\n",
              "      quickchartButtonEl.classList.remove('colab-df-spinner');\n",
              "      quickchartButtonEl.classList.add('colab-df-quickchart-complete');\n",
              "    }\n",
              "    (() => {\n",
              "      let quickchartButtonEl =\n",
              "        document.querySelector('#df-7273ef93-e07f-40cd-b6cb-0c3f1fe73d08 button');\n",
              "      quickchartButtonEl.style.display =\n",
              "        google.colab.kernel.accessAllowed ? 'block' : 'none';\n",
              "    })();\n",
              "  </script>\n",
              "</div>\n",
              "\n",
              "  <div id=\"id_6a7aaced-4e53-4b84-9149-fb84d6d34e6b\">\n",
              "    <style>\n",
              "      .colab-df-generate {\n",
              "        background-color: #E8F0FE;\n",
              "        border: none;\n",
              "        border-radius: 50%;\n",
              "        cursor: pointer;\n",
              "        display: none;\n",
              "        fill: #1967D2;\n",
              "        height: 32px;\n",
              "        padding: 0 0 0 0;\n",
              "        width: 32px;\n",
              "      }\n",
              "\n",
              "      .colab-df-generate:hover {\n",
              "        background-color: #E2EBFA;\n",
              "        box-shadow: 0px 1px 2px rgba(60, 64, 67, 0.3), 0px 1px 3px 1px rgba(60, 64, 67, 0.15);\n",
              "        fill: #174EA6;\n",
              "      }\n",
              "\n",
              "      [theme=dark] .colab-df-generate {\n",
              "        background-color: #3B4455;\n",
              "        fill: #D2E3FC;\n",
              "      }\n",
              "\n",
              "      [theme=dark] .colab-df-generate:hover {\n",
              "        background-color: #434B5C;\n",
              "        box-shadow: 0px 1px 3px 1px rgba(0, 0, 0, 0.15);\n",
              "        filter: drop-shadow(0px 1px 2px rgba(0, 0, 0, 0.3));\n",
              "        fill: #FFFFFF;\n",
              "      }\n",
              "    </style>\n",
              "    <button class=\"colab-df-generate\" onclick=\"generateWithVariable('final_combined')\"\n",
              "            title=\"Generate code using this dataframe.\"\n",
              "            style=\"display:none;\">\n",
              "\n",
              "  <svg xmlns=\"http://www.w3.org/2000/svg\" height=\"24px\"viewBox=\"0 0 24 24\"\n",
              "       width=\"24px\">\n",
              "    <path d=\"M7,19H8.4L18.45,9,17,7.55,7,17.6ZM5,21V16.75L18.45,3.32a2,2,0,0,1,2.83,0l1.4,1.43a1.91,1.91,0,0,1,.58,1.4,1.91,1.91,0,0,1-.58,1.4L9.25,21ZM18.45,9,17,7.55Zm-12,3A5.31,5.31,0,0,0,4.9,8.1,5.31,5.31,0,0,0,1,6.5,5.31,5.31,0,0,0,4.9,4.9,5.31,5.31,0,0,0,6.5,1,5.31,5.31,0,0,0,8.1,4.9,5.31,5.31,0,0,0,12,6.5,5.46,5.46,0,0,0,6.5,12Z\"/>\n",
              "  </svg>\n",
              "    </button>\n",
              "    <script>\n",
              "      (() => {\n",
              "      const buttonEl =\n",
              "        document.querySelector('#id_6a7aaced-4e53-4b84-9149-fb84d6d34e6b button.colab-df-generate');\n",
              "      buttonEl.style.display =\n",
              "        google.colab.kernel.accessAllowed ? 'block' : 'none';\n",
              "\n",
              "      buttonEl.onclick = () => {\n",
              "        google.colab.notebook.generateWithVariable('final_combined');\n",
              "      }\n",
              "      })();\n",
              "    </script>\n",
              "  </div>\n",
              "\n",
              "    </div>\n",
              "  </div>\n"
            ],
            "text/plain": [
              "     Mean hesitation  Mean conf  Grammar point  Unique word  Rare word  \\\n",
              "0           0.212820   0.976796           99.0         52.0       16.0   \n",
              "1           1.276131   0.739684           99.0         50.0       19.0   \n",
              "2           0.233935   0.976769           99.0         49.0       20.0   \n",
              "3           0.155683   0.943088           99.0         62.0       17.0   \n",
              "4           0.158567   0.945801           74.0         55.0       19.0   \n",
              "..               ...        ...            ...          ...        ...   \n",
              "295         0.238973   0.937016           92.0         68.0       16.0   \n",
              "296         1.723826   0.226841           97.0         54.0       22.0   \n",
              "297         2.198528   0.655545           99.0         50.0       22.0   \n",
              "298         0.172243   0.947937           99.0         52.0       13.0   \n",
              "299         0.338135   0.921211           92.0         54.0       20.0   \n",
              "\n",
              "     Number of word  Score  \n",
              "0             223.0   55.0  \n",
              "1             216.0   55.0  \n",
              "2             257.0   55.0  \n",
              "3             226.0   55.0  \n",
              "4             177.0   55.0  \n",
              "..              ...    ...  \n",
              "295           152.0   50.0  \n",
              "296           345.0   50.0  \n",
              "297           725.0   50.0  \n",
              "298           229.0   50.0  \n",
              "299           255.0   50.0  \n",
              "\n",
              "[812 rows x 7 columns]"
            ]
          },
          "execution_count": 50,
          "metadata": {},
          "output_type": "execute_result"
        }
      ],
      "source": [
        "# Concatenate X_train and X_test vertically\n",
        "# X_combined = pd.concat([X_train, X_test], ignore_index=True)\n",
        "\n",
        "# # Concatenate y_train and y_test vertically\n",
        "# y_combined = pd.concat([y_train, y_test], ignore_index=True)\n",
        "\n",
        "# Merge the resulting DataFrames horizontally\n",
        "final_combined = pd.concat([X_train, y_train], axis=1)\n",
        "final_combined"
      ]
    },
    {
      "cell_type": "code",
      "execution_count": null,
      "metadata": {
        "colab": {
          "base_uri": "https://localhost:8080/"
        },
        "id": "wQ-lIOR2Yt7c",
        "outputId": "7d4e939b-7bdf-4587-c793-590b957eb0be"
      },
      "outputs": [
        {
          "name": "stdout",
          "output_type": "stream",
          "text": [
            "Score : PearsonRResult(statistic=0.9999999999999996, pvalue=0.0)\n",
            "Number of word : PearsonRResult(statistic=0.29825805670425637, pvalue=2.1619603049048083e-18)\n",
            "Unique word : PearsonRResult(statistic=-0.2992509945702137, pvalue=1.6487842320667577e-18)\n",
            "Grammar point : PearsonRResult(statistic=0.1871869742282859, pvalue=6.19651511322426e-08)\n",
            "Rare word : PearsonRResult(statistic=0.2564754993089833, pvalue=7.634908990136088e-14)\n",
            "Mean conf : PearsonRResult(statistic=0.13639069074193846, pvalue=8.580719314006717e-05)\n",
            "Mean hesitation : PearsonRResult(statistic=-0.017570145994761744, pvalue=0.6145204878063555)\n"
          ]
        }
      ],
      "source": [
        "corr_matrix = final_combined.corr().corr(method='pearson')\n",
        "high_corr = abs(corr_matrix)['Score'].sort_values(ascending=False).to_frame().reset_index()\n",
        "high_corr.columns = ['features', 'Corr']\n",
        "highcorr_features = high_corr['features']\n",
        "for f in highcorr_features:\n",
        "  print(f, ':', stats.pearsonr(df[f], df['Score']))"
      ]
    },
    {
      "cell_type": "code",
      "execution_count": null,
      "metadata": {
        "id": "2u1CPXJFZPrP"
      },
      "outputs": [],
      "source": [
        "list_f = ['Mean hesitation', 'Mean conf', 'Grammar point', 'Unique word', 'Rare word', 'Number of word']\n",
        "i = 1\n",
        "i = 1\n",
        "plt.figure(figsize=(20,15))\n",
        "for l in list_f:\n",
        "  plt.subplot(3,3,i)\n",
        "  sns.boxplot(data=df, y=l, x='score')\n",
        "  plt.title('Boxplot of IELTS speaking score versus '+  l)\n",
        "  i+=1"
      ]
    },
    {
      "cell_type": "code",
      "execution_count": null,
      "metadata": {
        "id": "p0Urj_K2_Kp6"
      },
      "outputs": [],
      "source": [
        "from sklearn.metrics import r2_score, mean_absolute_error, mean_squared_log_error\n",
        "def rae_score(y_true, y_pred):\n",
        "    return np.sum(np.abs(y_pred - y_true)) / np.sum(np.abs(np.mean(y_true) - y_true))\n",
        "def short_metrics(preds, labels, train_labels, many_shot_thr=100, low_shot_thr=75):\n",
        "  train_class_count, test_class_count = [], []\n",
        "  mse_per_class, msle_per_class, rae_per_class = [], [], []\n",
        "  for l in np.unique(np.floor(labels)):\n",
        "    train_class_count.append(len(train_labels[np.floor(train_labels)==l]))\n",
        "    test_class_count.append(len(labels[np.floor(labels)==l]))\n",
        "    mse_per_class.append(np.sum((preds[np.floor(labels)==l]-labels[np.floor(labels)==l])**2))\n",
        "    msle_per_class.append(np.sum(np.abs(preds[np.floor(labels)==l]-labels[np.floor(labels)==l])))\n",
        "    rae_per_class.append(rae_score(labels[np.floor(labels)==l],preds[np.floor(labels)==l]))\n",
        "\n",
        "  many_shot_mse, median_shot_mse, low_shot_mse = [], [], []\n",
        "  many_shot_msle, median_shot_msle, low_shot_msle = [], [], []\n",
        "  many_shot_rae, median_shot_rae, low_shot_rae = [], [], []\n",
        "  many_shot_cnt, median_shot_cnt, low_shot_cnt = [], [], []\n",
        "  for i in range(len(train_class_count)):\n",
        "      if train_class_count[i] > many_shot_thr:\n",
        "          many_shot_mse.append(mse_per_class[i])\n",
        "          many_shot_msle.append(msle_per_class[i])\n",
        "          many_shot_rae.append(rae_per_class[i])\n",
        "          many_shot_cnt.append(test_class_count[i])\n",
        "      elif train_class_count[i] < low_shot_thr:\n",
        "          low_shot_mse.append(mse_per_class[i])\n",
        "          low_shot_msle.append(msle_per_class[i])\n",
        "          low_shot_rae.append(rae_per_class[i])\n",
        "          low_shot_cnt.append(test_class_count[i])\n",
        "      else:\n",
        "          median_shot_mse.append(mse_per_class[i])\n",
        "          median_shot_msle.append(msle_per_class[i])\n",
        "          median_shot_rae.append(rae_per_class[i])\n",
        "          median_shot_cnt.append(test_class_count[i])\n",
        "\n",
        "  shot_dict = {}\n",
        "  shot_dict['many mse'] = np.sum(many_shot_mse) / np.sum(many_shot_cnt)\n",
        "  shot_dict['many msle'] = np.sum(many_shot_msle) / np.sum(many_shot_cnt)\n",
        "  shot_dict['many rae'] = np.sum(many_shot_rae) / np.sum(many_shot_cnt)\n",
        "  shot_dict['median mse'] = np.sum(median_shot_mse) / np.sum(median_shot_cnt)\n",
        "  shot_dict['median msle'] = np.sum(median_shot_msle) / np.sum(median_shot_cnt)\n",
        "  shot_dict['median rae'] = np.sum(median_shot_rae) / np.sum(median_shot_cnt)\n",
        "  shot_dict['low mse'] = np.sum(low_shot_mse) / np.sum(low_shot_cnt)\n",
        "  shot_dict['low msle'] = np.sum(low_shot_msle) / np.sum(low_shot_cnt)\n",
        "  shot_dict['low rae'] = np.sum(low_shot_rae) / np.sum(low_shot_cnt)\n",
        "\n",
        "  mse = mean_squared_error(preds, labels)\n",
        "  msle =  mean_squared_log_error(preds, labels)\n",
        "  rae = rae_score(labels, preds)\n",
        "  print(f\" * Overall: MSE {mse:.3f}\\tMSLE {msle:.3f}\\tRAE {rae:.3f}\")\n",
        "  print(f\" * Many: MSE {shot_dict['many mse']:.3f}\\t\"\n",
        "              f\"MSLE {shot_dict['many msle']:.3f}\\tRAE score {shot_dict['many rae']:.3f}\")\n",
        "  print(f\" * Median: MSE {shot_dict['median mse']:.3f}\\t\"\n",
        "              f\"MSLE {shot_dict['median msle']:.3f}\\tRAE score {shot_dict['median rae']:.3f}\")\n",
        "  print(f\" * Low: MSE {shot_dict['low mse']:.3f}\\t\"\n",
        "              f\"MSLE {shot_dict['low msle']:.3f}\\tRAE score {shot_dict['low rae']:.3f}\")\n",
        "\n",
        "  return None"
      ]
    },
    {
      "cell_type": "markdown",
      "metadata": {
        "id": "KDc2V9RUOQLW"
      },
      "source": [
        "# LightGBM"
      ]
    },
    {
      "cell_type": "code",
      "execution_count": null,
      "metadata": {
        "colab": {
          "base_uri": "https://localhost:8080/"
        },
        "id": "Z1TxkcF3OR05",
        "outputId": "92a39fe2-866f-4bbe-c218-2532a6e9a99a"
      },
      "outputs": [
        {
          "name": "stdout",
          "output_type": "stream",
          "text": [
            "[LightGBM] [Info] Auto-choosing col-wise multi-threading, the overhead of testing was 0.000106 seconds.\n",
            "You can set `force_col_wise=true` to remove the overhead.\n",
            "[LightGBM] [Info] Total Bins 982\n",
            "[LightGBM] [Info] Number of data points in the train set: 812, number of used features: 6\n",
            "[LightGBM] [Info] Start training from score 57.832512\n",
            "[LightGBM] [Warning] No further splits with positive gain, best gain: -inf\n",
            "Training until validation scores don't improve for 5 rounds\n",
            "[LightGBM] [Warning] No further splits with positive gain, best gain: -inf\n",
            "[LightGBM] [Warning] No further splits with positive gain, best gain: -inf\n",
            "[LightGBM] [Warning] No further splits with positive gain, best gain: -inf\n",
            "[LightGBM] [Warning] No further splits with positive gain, best gain: -inf\n",
            "[LightGBM] [Warning] No further splits with positive gain, best gain: -inf\n",
            "[LightGBM] [Warning] No further splits with positive gain, best gain: -inf\n",
            "[LightGBM] [Warning] No further splits with positive gain, best gain: -inf\n",
            "[LightGBM] [Warning] No further splits with positive gain, best gain: -inf\n",
            "[LightGBM] [Warning] No further splits with positive gain, best gain: -inf\n",
            "[LightGBM] [Warning] No further splits with positive gain, best gain: -inf\n",
            "[LightGBM] [Warning] No further splits with positive gain, best gain: -inf\n",
            "[LightGBM] [Warning] No further splits with positive gain, best gain: -inf\n",
            "[LightGBM] [Warning] No further splits with positive gain, best gain: -inf\n",
            "[LightGBM] [Warning] No further splits with positive gain, best gain: -inf\n",
            "[LightGBM] [Warning] No further splits with positive gain, best gain: -inf\n",
            "[LightGBM] [Warning] No further splits with positive gain, best gain: -inf\n",
            "[LightGBM] [Warning] No further splits with positive gain, best gain: -inf\n",
            "[LightGBM] [Warning] No further splits with positive gain, best gain: -inf\n",
            "[LightGBM] [Warning] No further splits with positive gain, best gain: -inf\n",
            "Did not meet early stopping. Best iteration is:\n",
            "[20]\tvalid_0's l1: 5.54883\tvalid_0's l2: 45.401\n",
            "The RMSE of prediction is: 45.401004424248676\n",
            "Feature importances: [100, 100, 0, 60, 100, 220]\n"
          ]
        },
        {
          "name": "stderr",
          "output_type": "stream",
          "text": [
            "/usr/local/lib/python3.10/dist-packages/sklearn/utils/validation.py:1143: DataConversionWarning: A column-vector y was passed when a 1d array was expected. Please change the shape of y to (n_samples, ), for example using ravel().\n",
            "  y = column_or_1d(y, warn=True)\n"
          ]
        }
      ],
      "source": [
        "from sklearn.model_selection import GridSearchCV\n",
        "from sklearn.metrics import mean_squared_error\n",
        "import lightgbm as lgb\n",
        "gbm = lgb.LGBMRegressor(num_leaves=31, learning_rate=0.0001, n_estimators=20)\n",
        "gbm.fit(X_train, y_train,  eval_set=[(X_test, y_test)],  eval_metric=['mae', 'mean_squared_log_error'], callbacks=[lgb.early_stopping(5)])\n",
        "# predict\n",
        "y_pred = gbm.predict(X_test, num_iteration=gbm.best_iteration_)\n",
        "# eval\n",
        "rmse_test = mean_squared_error(y_test, y_pred)\n",
        "print(f\"The RMSE of prediction is: {rmse_test}\")\n",
        "\n",
        "# feature importances\n",
        "print(f\"Feature importances: {list(gbm.feature_importances_)}\")"
      ]
    },
    {
      "cell_type": "code",
      "execution_count": null,
      "metadata": {
        "colab": {
          "base_uri": "https://localhost:8080/"
        },
        "id": "-VLAd_LCbX4e",
        "outputId": "328c46ad-013b-4b7b-9908-6f3bb9850a08"
      },
      "outputs": [
        {
          "data": {
            "text/plain": [
              "(812, 6)"
            ]
          },
          "execution_count": 42,
          "metadata": {},
          "output_type": "execute_result"
        }
      ],
      "source": [
        "X_train.shape"
      ]
    },
    {
      "cell_type": "code",
      "execution_count": null,
      "metadata": {
        "colab": {
          "base_uri": "https://localhost:8080/"
        },
        "id": "uDZdNITN_Nh1",
        "outputId": "d8fcbaa4-4f4a-4eaf-fc7c-fc5db8f855dc"
      },
      "outputs": [
        {
          "name": "stdout",
          "output_type": "stream",
          "text": [
            " * Overall: MSE 45.401\tMSLE 0.014\tRAE 1.011\n",
            " * Many: MSE 24.755\tMSLE 4.340\tRAE score inf\n",
            " * Median: MSE nan\tMSLE nan\tRAE score nan\n",
            " * Low: MSE 172.866\tMSLE 13.013\tRAE score inf\n"
          ]
        },
        {
          "name": "stderr",
          "output_type": "stream",
          "text": [
            "<ipython-input-33-734f9daffccb>:3: RuntimeWarning: divide by zero encountered in scalar divide\n",
            "  return np.sum(np.abs(y_pred - y_true)) / np.sum(np.abs(np.mean(y_true) - y_true))\n",
            "<ipython-input-33-734f9daffccb>:39: RuntimeWarning: invalid value encountered in scalar divide\n",
            "  shot_dict['median mse'] = np.sum(median_shot_mse) / np.sum(median_shot_cnt)\n",
            "<ipython-input-33-734f9daffccb>:40: RuntimeWarning: invalid value encountered in scalar divide\n",
            "  shot_dict['median msle'] = np.sum(median_shot_msle) / np.sum(median_shot_cnt)\n",
            "<ipython-input-33-734f9daffccb>:41: RuntimeWarning: invalid value encountered in scalar divide\n",
            "  shot_dict['median rae'] = np.sum(median_shot_rae) / np.sum(median_shot_cnt)\n"
          ]
        }
      ],
      "source": [
        "short_metrics(np.squeeze(y_pred), np.squeeze(y_test.to_numpy()), np.squeeze(y_train.to_numpy()))"
      ]
    },
    {
      "cell_type": "markdown",
      "metadata": {
        "id": "eJycBHzhbnbZ"
      },
      "source": [
        "# Logistic Regression"
      ]
    },
    {
      "cell_type": "code",
      "execution_count": null,
      "metadata": {
        "colab": {
          "base_uri": "https://localhost:8080/"
        },
        "id": "Y-e7oldbey5V",
        "outputId": "0d3a1738-5729-4476-bb2c-d964d945da21"
      },
      "outputs": [
        {
          "name": "stdout",
          "output_type": "stream",
          "text": [
            " * Overall: MSE 94.091\tMSLE 0.029\tRAE 1.298\n",
            " * Many: MSE 88.556\tMSLE 6.937\tRAE score inf\n",
            " * Median: MSE nan\tMSLE nan\tRAE score nan\n",
            " * Low: MSE 128.261\tMSLE 8.261\tRAE score inf\n"
          ]
        },
        {
          "name": "stderr",
          "output_type": "stream",
          "text": [
            "/usr/local/lib/python3.10/dist-packages/sklearn/utils/validation.py:1143: DataConversionWarning: A column-vector y was passed when a 1d array was expected. Please change the shape of y to (n_samples, ), for example using ravel().\n",
            "  y = column_or_1d(y, warn=True)\n",
            "<ipython-input-33-734f9daffccb>:3: RuntimeWarning: divide by zero encountered in scalar divide\n",
            "  return np.sum(np.abs(y_pred - y_true)) / np.sum(np.abs(np.mean(y_true) - y_true))\n",
            "<ipython-input-33-734f9daffccb>:39: RuntimeWarning: invalid value encountered in scalar divide\n",
            "  shot_dict['median mse'] = np.sum(median_shot_mse) / np.sum(median_shot_cnt)\n",
            "<ipython-input-33-734f9daffccb>:40: RuntimeWarning: invalid value encountered in scalar divide\n",
            "  shot_dict['median msle'] = np.sum(median_shot_msle) / np.sum(median_shot_cnt)\n",
            "<ipython-input-33-734f9daffccb>:41: RuntimeWarning: invalid value encountered in scalar divide\n",
            "  shot_dict['median rae'] = np.sum(median_shot_rae) / np.sum(median_shot_cnt)\n"
          ]
        }
      ],
      "source": [
        "from sklearn.linear_model import LogisticRegression\n",
        "logistic=LogisticRegression().fit(X_train, y_train)\n",
        "y_pred=logistic.predict(X_test)\n",
        "short_metrics(np.squeeze(y_pred), np.squeeze(y_test.to_numpy()), np.squeeze(y_train.to_numpy()))"
      ]
    },
    {
      "cell_type": "markdown",
      "metadata": {
        "id": "UmnM7S9Gbumx"
      },
      "source": [
        "# Random Forest"
      ]
    },
    {
      "cell_type": "code",
      "execution_count": null,
      "metadata": {
        "colab": {
          "base_uri": "https://localhost:8080/"
        },
        "id": "7YXRDAjrcJUh",
        "outputId": "b7063bb7-16ef-4da9-a822-5504732d4651"
      },
      "outputs": [
        {
          "name": "stderr",
          "output_type": "stream",
          "text": [
            "<ipython-input-63-b50b46cf3ebd>:3: DataConversionWarning: A column-vector y was passed when a 1d array was expected. Please change the shape of y to (n_samples,), for example using ravel().\n",
            "  randomforest.fit(X_train, y_train)\n"
          ]
        }
      ],
      "source": [
        "from sklearn.ensemble import RandomForestClassifier\n",
        "randomforest = RandomForestClassifier(max_depth=9, random_state=0)\n",
        "randomforest.fit(X_train, y_train)\n",
        "y_pred = randomforest.predict(X_test)"
      ]
    },
    {
      "cell_type": "code",
      "execution_count": null,
      "metadata": {
        "colab": {
          "base_uri": "https://localhost:8080/"
        },
        "id": "Tmb4JfXPeE3-",
        "outputId": "2c9d2224-1966-45ee-e9d8-112fc21f5371"
      },
      "outputs": [
        {
          "name": "stdout",
          "output_type": "stream",
          "text": [
            " * Overall: MSE 56.818\tMSLE 0.018\tRAE 0.922\n",
            " * Many: MSE 47.711\tMSLE 4.754\tRAE score inf\n",
            " * Median: MSE nan\tMSLE nan\tRAE score nan\n",
            " * Low: MSE 113.043\tMSLE 6.957\tRAE score inf\n"
          ]
        },
        {
          "name": "stderr",
          "output_type": "stream",
          "text": [
            "<ipython-input-33-734f9daffccb>:3: RuntimeWarning: divide by zero encountered in scalar divide\n",
            "  return np.sum(np.abs(y_pred - y_true)) / np.sum(np.abs(np.mean(y_true) - y_true))\n",
            "<ipython-input-33-734f9daffccb>:39: RuntimeWarning: invalid value encountered in scalar divide\n",
            "  shot_dict['median mse'] = np.sum(median_shot_mse) / np.sum(median_shot_cnt)\n",
            "<ipython-input-33-734f9daffccb>:40: RuntimeWarning: invalid value encountered in scalar divide\n",
            "  shot_dict['median msle'] = np.sum(median_shot_msle) / np.sum(median_shot_cnt)\n",
            "<ipython-input-33-734f9daffccb>:41: RuntimeWarning: invalid value encountered in scalar divide\n",
            "  shot_dict['median rae'] = np.sum(median_shot_rae) / np.sum(median_shot_cnt)\n"
          ]
        }
      ],
      "source": [
        "short_metrics(np.squeeze(y_pred), np.squeeze(y_test.to_numpy()), np.squeeze(y_train.to_numpy()))"
      ]
    },
    {
      "cell_type": "markdown",
      "metadata": {
        "id": "jMmLll4ebzZZ"
      },
      "source": [
        "# SVM"
      ]
    },
    {
      "cell_type": "code",
      "execution_count": null,
      "metadata": {
        "colab": {
          "base_uri": "https://localhost:8080/"
        },
        "id": "Qz4jWRR1fPke",
        "outputId": "878622ff-d026-4dad-d80a-bc37199d9866"
      },
      "outputs": [
        {
          "name": "stdout",
          "output_type": "stream",
          "text": [
            " * Overall: MSE 73.636\tMSLE 0.022\tRAE 1.060\n",
            " * Many: MSE 75.352\tMSLE 5.915\tRAE score inf\n",
            " * Median: MSE nan\tMSLE nan\tRAE score nan\n",
            " * Low: MSE 63.043\tMSLE 5.217\tRAE score inf\n"
          ]
        },
        {
          "name": "stderr",
          "output_type": "stream",
          "text": [
            "/usr/local/lib/python3.10/dist-packages/sklearn/utils/validation.py:1143: DataConversionWarning: A column-vector y was passed when a 1d array was expected. Please change the shape of y to (n_samples, ), for example using ravel().\n",
            "  y = column_or_1d(y, warn=True)\n",
            "<ipython-input-33-734f9daffccb>:3: RuntimeWarning: divide by zero encountered in scalar divide\n",
            "  return np.sum(np.abs(y_pred - y_true)) / np.sum(np.abs(np.mean(y_true) - y_true))\n",
            "<ipython-input-33-734f9daffccb>:39: RuntimeWarning: invalid value encountered in scalar divide\n",
            "  shot_dict['median mse'] = np.sum(median_shot_mse) / np.sum(median_shot_cnt)\n",
            "<ipython-input-33-734f9daffccb>:40: RuntimeWarning: invalid value encountered in scalar divide\n",
            "  shot_dict['median msle'] = np.sum(median_shot_msle) / np.sum(median_shot_cnt)\n",
            "<ipython-input-33-734f9daffccb>:41: RuntimeWarning: invalid value encountered in scalar divide\n",
            "  shot_dict['median rae'] = np.sum(median_shot_rae) / np.sum(median_shot_cnt)\n"
          ]
        }
      ],
      "source": [
        "from sklearn.svm import SVC\n",
        "svm = SVC()\n",
        "svm.fit(X_train, y_train)\n",
        "y_pred = svm.predict(X_test)\n",
        "short_metrics(np.squeeze(y_pred), np.squeeze(y_test.to_numpy()), np.squeeze(y_train.to_numpy()))"
      ]
    },
    {
      "cell_type": "markdown",
      "metadata": {
        "id": "6X7XRSmSb4-Z"
      },
      "source": [
        "# CatBoost"
      ]
    },
    {
      "cell_type": "code",
      "execution_count": null,
      "metadata": {
        "colab": {
          "base_uri": "https://localhost:8080/"
        },
        "id": "wflySGz-eQJl",
        "outputId": "00df4480-a606-45fb-db6f-68c9f081f58a"
      },
      "outputs": [
        {
          "name": "stdout",
          "output_type": "stream",
          "text": [
            "Collecting catboost\n",
            "  Downloading catboost-1.2.5-cp310-cp310-manylinux2014_x86_64.whl (98.2 MB)\n",
            "\u001b[2K     \u001b[90m━━━━━━━━━━━━━━━━━━━━━━━━━━━━━━━━━━━━━━━━\u001b[0m \u001b[32m98.2/98.2 MB\u001b[0m \u001b[31m8.6 MB/s\u001b[0m eta \u001b[36m0:00:00\u001b[0m\n",
            "\u001b[?25hRequirement already satisfied: graphviz in /usr/local/lib/python3.10/dist-packages (from catboost) (0.20.3)\n",
            "Requirement already satisfied: matplotlib in /usr/local/lib/python3.10/dist-packages (from catboost) (3.7.1)\n",
            "Requirement already satisfied: numpy>=1.16.0 in /usr/local/lib/python3.10/dist-packages (from catboost) (1.25.2)\n",
            "Requirement already satisfied: pandas>=0.24 in /usr/local/lib/python3.10/dist-packages (from catboost) (2.0.3)\n",
            "Requirement already satisfied: scipy in /usr/local/lib/python3.10/dist-packages (from catboost) (1.11.4)\n",
            "Requirement already satisfied: plotly in /usr/local/lib/python3.10/dist-packages (from catboost) (5.15.0)\n",
            "Requirement already satisfied: six in /usr/local/lib/python3.10/dist-packages (from catboost) (1.16.0)\n",
            "Requirement already satisfied: python-dateutil>=2.8.2 in /usr/local/lib/python3.10/dist-packages (from pandas>=0.24->catboost) (2.8.2)\n",
            "Requirement already satisfied: pytz>=2020.1 in /usr/local/lib/python3.10/dist-packages (from pandas>=0.24->catboost) (2023.4)\n",
            "Requirement already satisfied: tzdata>=2022.1 in /usr/local/lib/python3.10/dist-packages (from pandas>=0.24->catboost) (2024.1)\n",
            "Requirement already satisfied: contourpy>=1.0.1 in /usr/local/lib/python3.10/dist-packages (from matplotlib->catboost) (1.2.1)\n",
            "Requirement already satisfied: cycler>=0.10 in /usr/local/lib/python3.10/dist-packages (from matplotlib->catboost) (0.12.1)\n",
            "Requirement already satisfied: fonttools>=4.22.0 in /usr/local/lib/python3.10/dist-packages (from matplotlib->catboost) (4.51.0)\n",
            "Requirement already satisfied: kiwisolver>=1.0.1 in /usr/local/lib/python3.10/dist-packages (from matplotlib->catboost) (1.4.5)\n",
            "Requirement already satisfied: packaging>=20.0 in /usr/local/lib/python3.10/dist-packages (from matplotlib->catboost) (24.0)\n",
            "Requirement already satisfied: pillow>=6.2.0 in /usr/local/lib/python3.10/dist-packages (from matplotlib->catboost) (9.4.0)\n",
            "Requirement already satisfied: pyparsing>=2.3.1 in /usr/local/lib/python3.10/dist-packages (from matplotlib->catboost) (3.1.2)\n",
            "Requirement already satisfied: tenacity>=6.2.0 in /usr/local/lib/python3.10/dist-packages (from plotly->catboost) (8.3.0)\n",
            "Installing collected packages: catboost\n",
            "Successfully installed catboost-1.2.5\n"
          ]
        }
      ],
      "source": [
        "! pip install catboost"
      ]
    },
    {
      "cell_type": "code",
      "execution_count": null,
      "metadata": {
        "colab": {
          "base_uri": "https://localhost:8080/",
          "height": 1000
        },
        "collapsed": true,
        "id": "bNdntL9seRjY",
        "outputId": "fd337443-dfdb-4e7c-b40c-ee46a8e7a1f8"
      },
      "outputs": [
        {
          "name": "stdout",
          "output_type": "stream",
          "text": [
            "0:\tlearn: 9.8872767\ttotal: 46.6ms\tremaining: 4.61s\n",
            "1:\tlearn: 9.8869133\ttotal: 47.8ms\tremaining: 2.34s\n",
            "2:\tlearn: 9.8865370\ttotal: 48.5ms\tremaining: 1.57s\n",
            "3:\tlearn: 9.8861713\ttotal: 49.4ms\tremaining: 1.19s\n",
            "4:\tlearn: 9.8857960\ttotal: 50.6ms\tremaining: 962ms\n",
            "5:\tlearn: 9.8854641\ttotal: 51.7ms\tremaining: 809ms\n",
            "6:\tlearn: 9.8851499\ttotal: 52.6ms\tremaining: 699ms\n",
            "7:\tlearn: 9.8848112\ttotal: 53ms\tremaining: 609ms\n",
            "8:\tlearn: 9.8844661\ttotal: 53.3ms\tremaining: 539ms\n",
            "9:\tlearn: 9.8841464\ttotal: 53.6ms\tremaining: 483ms\n",
            "10:\tlearn: 9.8837735\ttotal: 54ms\tremaining: 437ms\n",
            "11:\tlearn: 9.8834166\ttotal: 54.2ms\tremaining: 398ms\n",
            "12:\tlearn: 9.8830728\ttotal: 54.6ms\tremaining: 365ms\n",
            "13:\tlearn: 9.8826960\ttotal: 54.9ms\tremaining: 337ms\n",
            "14:\tlearn: 9.8823629\ttotal: 55.2ms\tremaining: 313ms\n",
            "15:\tlearn: 9.8820308\ttotal: 55.6ms\tremaining: 292ms\n",
            "16:\tlearn: 9.8816876\ttotal: 56.1ms\tremaining: 274ms\n",
            "17:\tlearn: 9.8813182\ttotal: 56.5ms\tremaining: 257ms\n",
            "18:\tlearn: 9.8809619\ttotal: 57ms\tremaining: 243ms\n",
            "19:\tlearn: 9.8806084\ttotal: 57.4ms\tremaining: 230ms\n",
            "20:\tlearn: 9.8802314\ttotal: 57.9ms\tremaining: 218ms\n",
            "21:\tlearn: 9.8798665\ttotal: 59ms\tremaining: 209ms\n",
            "22:\tlearn: 9.8794835\ttotal: 60.1ms\tremaining: 201ms\n",
            "23:\tlearn: 9.8791485\ttotal: 60.5ms\tremaining: 192ms\n",
            "24:\tlearn: 9.8787792\ttotal: 61ms\tremaining: 183ms\n",
            "25:\tlearn: 9.8785181\ttotal: 63.2ms\tremaining: 180ms\n",
            "26:\tlearn: 9.8781412\ttotal: 63.6ms\tremaining: 172ms\n",
            "27:\tlearn: 9.8777631\ttotal: 64.1ms\tremaining: 165ms\n",
            "28:\tlearn: 9.8773791\ttotal: 64.4ms\tremaining: 158ms\n",
            "29:\tlearn: 9.8770038\ttotal: 64.7ms\tremaining: 151ms\n",
            "30:\tlearn: 9.8766791\ttotal: 65.2ms\tremaining: 145ms\n",
            "31:\tlearn: 9.8763019\ttotal: 65.7ms\tremaining: 140ms\n",
            "32:\tlearn: 9.8759144\ttotal: 66ms\tremaining: 134ms\n",
            "33:\tlearn: 9.8755264\ttotal: 66.4ms\tremaining: 129ms\n",
            "34:\tlearn: 9.8752544\ttotal: 66.7ms\tremaining: 124ms\n",
            "35:\tlearn: 9.8749703\ttotal: 67ms\tremaining: 119ms\n",
            "36:\tlearn: 9.8746793\ttotal: 67.3ms\tremaining: 115ms\n",
            "37:\tlearn: 9.8743138\ttotal: 67.6ms\tremaining: 110ms\n",
            "38:\tlearn: 9.8739616\ttotal: 68ms\tremaining: 106ms\n",
            "39:\tlearn: 9.8735806\ttotal: 68.4ms\tremaining: 103ms\n",
            "40:\tlearn: 9.8732078\ttotal: 68.8ms\tremaining: 99ms\n",
            "41:\tlearn: 9.8729470\ttotal: 69.1ms\tremaining: 95.4ms\n",
            "42:\tlearn: 9.8725745\ttotal: 69.7ms\tremaining: 92.5ms\n",
            "43:\tlearn: 9.8722112\ttotal: 70.2ms\tremaining: 89.3ms\n",
            "44:\tlearn: 9.8718534\ttotal: 70.7ms\tremaining: 86.4ms\n",
            "45:\tlearn: 9.8714781\ttotal: 71ms\tremaining: 83.3ms\n",
            "46:\tlearn: 9.8711425\ttotal: 71.4ms\tremaining: 80.5ms\n",
            "47:\tlearn: 9.8708229\ttotal: 71.8ms\tremaining: 77.8ms\n",
            "48:\tlearn: 9.8704498\ttotal: 72.1ms\tremaining: 75ms\n",
            "49:\tlearn: 9.8700708\ttotal: 72.3ms\tremaining: 72.3ms\n",
            "50:\tlearn: 9.8696976\ttotal: 72.6ms\tremaining: 69.8ms\n",
            "51:\tlearn: 9.8693213\ttotal: 73ms\tremaining: 67.4ms\n",
            "52:\tlearn: 9.8689590\ttotal: 73.3ms\tremaining: 65ms\n",
            "53:\tlearn: 9.8686514\ttotal: 73.9ms\tremaining: 63ms\n",
            "54:\tlearn: 9.8683473\ttotal: 74.8ms\tremaining: 61.2ms\n",
            "55:\tlearn: 9.8680303\ttotal: 75.5ms\tremaining: 59.3ms\n",
            "56:\tlearn: 9.8676494\ttotal: 76ms\tremaining: 57.3ms\n",
            "57:\tlearn: 9.8672760\ttotal: 76.4ms\tremaining: 55.3ms\n",
            "58:\tlearn: 9.8669138\ttotal: 76.9ms\tremaining: 53.4ms\n",
            "59:\tlearn: 9.8665381\ttotal: 78.9ms\tremaining: 52.6ms\n",
            "60:\tlearn: 9.8662002\ttotal: 79.4ms\tremaining: 50.8ms\n",
            "61:\tlearn: 9.8658244\ttotal: 79.9ms\tremaining: 49ms\n",
            "62:\tlearn: 9.8654522\ttotal: 80.3ms\tremaining: 47.2ms\n",
            "63:\tlearn: 9.8651420\ttotal: 80.6ms\tremaining: 45.3ms\n",
            "64:\tlearn: 9.8647672\ttotal: 80.9ms\tremaining: 43.5ms\n",
            "65:\tlearn: 9.8644820\ttotal: 81.1ms\tremaining: 41.8ms\n",
            "66:\tlearn: 9.8641419\ttotal: 81.4ms\tremaining: 40.1ms\n",
            "67:\tlearn: 9.8637721\ttotal: 81.7ms\tremaining: 38.4ms\n",
            "68:\tlearn: 9.8634467\ttotal: 82.1ms\tremaining: 36.9ms\n",
            "69:\tlearn: 9.8630757\ttotal: 82.5ms\tremaining: 35.4ms\n",
            "70:\tlearn: 9.8627565\ttotal: 82.9ms\tremaining: 33.8ms\n",
            "71:\tlearn: 9.8623821\ttotal: 83.1ms\tremaining: 32.3ms\n",
            "72:\tlearn: 9.8620131\ttotal: 83.4ms\tremaining: 30.9ms\n",
            "73:\tlearn: 9.8616760\ttotal: 83.7ms\tremaining: 29.4ms\n",
            "74:\tlearn: 9.8613374\ttotal: 84ms\tremaining: 28ms\n",
            "75:\tlearn: 9.8610080\ttotal: 84.3ms\tremaining: 26.6ms\n",
            "76:\tlearn: 9.8606552\ttotal: 84.8ms\tremaining: 25.3ms\n",
            "77:\tlearn: 9.8602882\ttotal: 85.2ms\tremaining: 24ms\n",
            "78:\tlearn: 9.8599485\ttotal: 85.5ms\tremaining: 22.7ms\n",
            "79:\tlearn: 9.8595793\ttotal: 85.9ms\tremaining: 21.5ms\n",
            "80:\tlearn: 9.8592006\ttotal: 86.2ms\tremaining: 20.2ms\n",
            "81:\tlearn: 9.8588374\ttotal: 86.5ms\tremaining: 19ms\n",
            "82:\tlearn: 9.8585312\ttotal: 86.8ms\tremaining: 17.8ms\n",
            "83:\tlearn: 9.8581757\ttotal: 87.1ms\tremaining: 16.6ms\n",
            "84:\tlearn: 9.8578252\ttotal: 87.6ms\tremaining: 15.5ms\n",
            "85:\tlearn: 9.8574535\ttotal: 88.1ms\tremaining: 14.3ms\n",
            "86:\tlearn: 9.8571393\ttotal: 88.4ms\tremaining: 13.2ms\n",
            "87:\tlearn: 9.8567830\ttotal: 88.7ms\tremaining: 12.1ms\n",
            "88:\tlearn: 9.8564159\ttotal: 89.1ms\tremaining: 11ms\n",
            "89:\tlearn: 9.8560516\ttotal: 89.4ms\tremaining: 9.93ms\n",
            "90:\tlearn: 9.8557240\ttotal: 89.7ms\tremaining: 8.88ms\n",
            "91:\tlearn: 9.8553646\ttotal: 90ms\tremaining: 7.83ms\n",
            "92:\tlearn: 9.8550494\ttotal: 90.5ms\tremaining: 6.81ms\n",
            "93:\tlearn: 9.8546802\ttotal: 90.9ms\tremaining: 5.8ms\n",
            "94:\tlearn: 9.8543570\ttotal: 91.3ms\tremaining: 4.8ms\n",
            "95:\tlearn: 9.8539905\ttotal: 91.6ms\tremaining: 3.81ms\n",
            "96:\tlearn: 9.8536356\ttotal: 91.8ms\tremaining: 2.84ms\n",
            "97:\tlearn: 9.8532694\ttotal: 92.1ms\tremaining: 1.88ms\n",
            "98:\tlearn: 9.8529080\ttotal: 92.4ms\tremaining: 933us\n",
            "99:\tlearn: 9.8525718\ttotal: 92.8ms\tremaining: 0us\n"
          ]
        },
        {
          "ename": "CatBoostError",
          "evalue": "/src/catboost/catboost/libs/data/model_dataset_compatibility.cpp:72: Feature 1 is present in model but not in pool.",
          "output_type": "error",
          "traceback": [
            "\u001b[0;31m---------------------------------------------------------------------------\u001b[0m",
            "\u001b[0;31mCatBoostError\u001b[0m                             Traceback (most recent call last)",
            "\u001b[0;32m<ipython-input-68-bf780db15f01>\u001b[0m in \u001b[0;36m<cell line: 10>\u001b[0;34m()\u001b[0m\n\u001b[1;32m      8\u001b[0m \u001b[0mcatboost\u001b[0m\u001b[0;34m.\u001b[0m\u001b[0mfit\u001b[0m\u001b[0;34m(\u001b[0m\u001b[0mX_train\u001b[0m\u001b[0;34m,\u001b[0m \u001b[0my_train\u001b[0m\u001b[0;34m)\u001b[0m\u001b[0;34m\u001b[0m\u001b[0;34m\u001b[0m\u001b[0m\n\u001b[1;32m      9\u001b[0m \u001b[0;31m# Get predictions\u001b[0m\u001b[0;34m\u001b[0m\u001b[0;34m\u001b[0m\u001b[0m\n\u001b[0;32m---> 10\u001b[0;31m \u001b[0my_pred\u001b[0m \u001b[0;34m=\u001b[0m \u001b[0mcatboost\u001b[0m\u001b[0;34m.\u001b[0m\u001b[0mpredict\u001b[0m\u001b[0;34m(\u001b[0m\u001b[0my_test\u001b[0m\u001b[0;34m)\u001b[0m\u001b[0;34m\u001b[0m\u001b[0;34m\u001b[0m\u001b[0m\n\u001b[0m\u001b[1;32m     11\u001b[0m \u001b[0mshort_metrics\u001b[0m\u001b[0;34m(\u001b[0m\u001b[0mnp\u001b[0m\u001b[0;34m.\u001b[0m\u001b[0msqueeze\u001b[0m\u001b[0;34m(\u001b[0m\u001b[0my_pred\u001b[0m\u001b[0;34m)\u001b[0m\u001b[0;34m,\u001b[0m \u001b[0mnp\u001b[0m\u001b[0;34m.\u001b[0m\u001b[0msqueeze\u001b[0m\u001b[0;34m(\u001b[0m\u001b[0my_test\u001b[0m\u001b[0;34m.\u001b[0m\u001b[0mto_numpy\u001b[0m\u001b[0;34m(\u001b[0m\u001b[0;34m)\u001b[0m\u001b[0;34m)\u001b[0m\u001b[0;34m,\u001b[0m \u001b[0mnp\u001b[0m\u001b[0;34m.\u001b[0m\u001b[0msqueeze\u001b[0m\u001b[0;34m(\u001b[0m\u001b[0my_train\u001b[0m\u001b[0;34m.\u001b[0m\u001b[0mto_numpy\u001b[0m\u001b[0;34m(\u001b[0m\u001b[0;34m)\u001b[0m\u001b[0;34m)\u001b[0m\u001b[0;34m)\u001b[0m\u001b[0;34m\u001b[0m\u001b[0;34m\u001b[0m\u001b[0m\n",
            "\u001b[0;32m/usr/local/lib/python3.10/dist-packages/catboost/core.py\u001b[0m in \u001b[0;36mpredict\u001b[0;34m(self, data, prediction_type, ntree_start, ntree_end, thread_count, verbose, task_type)\u001b[0m\n\u001b[1;32m   5870\u001b[0m         \u001b[0;32mif\u001b[0m \u001b[0mprediction_type\u001b[0m \u001b[0;32mis\u001b[0m \u001b[0;32mNone\u001b[0m\u001b[0;34m:\u001b[0m\u001b[0;34m\u001b[0m\u001b[0;34m\u001b[0m\u001b[0m\n\u001b[1;32m   5871\u001b[0m             \u001b[0mprediction_type\u001b[0m \u001b[0;34m=\u001b[0m \u001b[0mself\u001b[0m\u001b[0;34m.\u001b[0m\u001b[0m_get_default_prediction_type\u001b[0m\u001b[0;34m(\u001b[0m\u001b[0;34m)\u001b[0m\u001b[0;34m\u001b[0m\u001b[0;34m\u001b[0m\u001b[0m\n\u001b[0;32m-> 5872\u001b[0;31m         \u001b[0;32mreturn\u001b[0m \u001b[0mself\u001b[0m\u001b[0;34m.\u001b[0m\u001b[0m_predict\u001b[0m\u001b[0;34m(\u001b[0m\u001b[0mdata\u001b[0m\u001b[0;34m,\u001b[0m \u001b[0mprediction_type\u001b[0m\u001b[0;34m,\u001b[0m \u001b[0mntree_start\u001b[0m\u001b[0;34m,\u001b[0m \u001b[0mntree_end\u001b[0m\u001b[0;34m,\u001b[0m \u001b[0mthread_count\u001b[0m\u001b[0;34m,\u001b[0m \u001b[0mverbose\u001b[0m\u001b[0;34m,\u001b[0m \u001b[0;34m'predict'\u001b[0m\u001b[0;34m,\u001b[0m \u001b[0mtask_type\u001b[0m\u001b[0;34m)\u001b[0m\u001b[0;34m\u001b[0m\u001b[0;34m\u001b[0m\u001b[0m\n\u001b[0m\u001b[1;32m   5873\u001b[0m \u001b[0;34m\u001b[0m\u001b[0m\n\u001b[1;32m   5874\u001b[0m     \u001b[0;32mdef\u001b[0m \u001b[0mstaged_predict\u001b[0m\u001b[0;34m(\u001b[0m\u001b[0mself\u001b[0m\u001b[0;34m,\u001b[0m \u001b[0mdata\u001b[0m\u001b[0;34m,\u001b[0m \u001b[0mprediction_type\u001b[0m\u001b[0;34m=\u001b[0m\u001b[0;34m'RawFormulaVal'\u001b[0m\u001b[0;34m,\u001b[0m \u001b[0mntree_start\u001b[0m\u001b[0;34m=\u001b[0m\u001b[0;36m0\u001b[0m\u001b[0;34m,\u001b[0m \u001b[0mntree_end\u001b[0m\u001b[0;34m=\u001b[0m\u001b[0;36m0\u001b[0m\u001b[0;34m,\u001b[0m \u001b[0meval_period\u001b[0m\u001b[0;34m=\u001b[0m\u001b[0;36m1\u001b[0m\u001b[0;34m,\u001b[0m \u001b[0mthread_count\u001b[0m\u001b[0;34m=\u001b[0m\u001b[0;34m-\u001b[0m\u001b[0;36m1\u001b[0m\u001b[0;34m,\u001b[0m \u001b[0mverbose\u001b[0m\u001b[0;34m=\u001b[0m\u001b[0;32mNone\u001b[0m\u001b[0;34m)\u001b[0m\u001b[0;34m:\u001b[0m\u001b[0;34m\u001b[0m\u001b[0;34m\u001b[0m\u001b[0m\n",
            "\u001b[0;32m/usr/local/lib/python3.10/dist-packages/catboost/core.py\u001b[0m in \u001b[0;36m_predict\u001b[0;34m(self, data, prediction_type, ntree_start, ntree_end, thread_count, verbose, parent_method_name, task_type)\u001b[0m\n\u001b[1;32m   2606\u001b[0m         \u001b[0mself\u001b[0m\u001b[0;34m.\u001b[0m\u001b[0m_validate_prediction_type\u001b[0m\u001b[0;34m(\u001b[0m\u001b[0mprediction_type\u001b[0m\u001b[0;34m)\u001b[0m\u001b[0;34m\u001b[0m\u001b[0;34m\u001b[0m\u001b[0m\n\u001b[1;32m   2607\u001b[0m \u001b[0;34m\u001b[0m\u001b[0m\n\u001b[0;32m-> 2608\u001b[0;31m         \u001b[0mpredictions\u001b[0m \u001b[0;34m=\u001b[0m \u001b[0mself\u001b[0m\u001b[0;34m.\u001b[0m\u001b[0m_base_predict\u001b[0m\u001b[0;34m(\u001b[0m\u001b[0mdata\u001b[0m\u001b[0;34m,\u001b[0m \u001b[0mprediction_type\u001b[0m\u001b[0;34m,\u001b[0m \u001b[0mntree_start\u001b[0m\u001b[0;34m,\u001b[0m \u001b[0mntree_end\u001b[0m\u001b[0;34m,\u001b[0m \u001b[0mthread_count\u001b[0m\u001b[0;34m,\u001b[0m \u001b[0mverbose\u001b[0m\u001b[0;34m,\u001b[0m \u001b[0mtask_type\u001b[0m\u001b[0;34m)\u001b[0m\u001b[0;34m\u001b[0m\u001b[0;34m\u001b[0m\u001b[0m\n\u001b[0m\u001b[1;32m   2609\u001b[0m         \u001b[0;32mreturn\u001b[0m \u001b[0mpredictions\u001b[0m\u001b[0;34m[\u001b[0m\u001b[0;36m0\u001b[0m\u001b[0;34m]\u001b[0m \u001b[0;32mif\u001b[0m \u001b[0mdata_is_single_object\u001b[0m \u001b[0;32melse\u001b[0m \u001b[0mpredictions\u001b[0m\u001b[0;34m\u001b[0m\u001b[0;34m\u001b[0m\u001b[0m\n\u001b[1;32m   2610\u001b[0m \u001b[0;34m\u001b[0m\u001b[0m\n",
            "\u001b[0;32m/usr/local/lib/python3.10/dist-packages/catboost/core.py\u001b[0m in \u001b[0;36m_base_predict\u001b[0;34m(self, pool, prediction_type, ntree_start, ntree_end, thread_count, verbose, task_type)\u001b[0m\n\u001b[1;32m   1830\u001b[0m \u001b[0;34m\u001b[0m\u001b[0m\n\u001b[1;32m   1831\u001b[0m     \u001b[0;32mdef\u001b[0m \u001b[0m_base_predict\u001b[0m\u001b[0;34m(\u001b[0m\u001b[0mself\u001b[0m\u001b[0;34m,\u001b[0m \u001b[0mpool\u001b[0m\u001b[0;34m,\u001b[0m \u001b[0mprediction_type\u001b[0m\u001b[0;34m,\u001b[0m \u001b[0mntree_start\u001b[0m\u001b[0;34m,\u001b[0m \u001b[0mntree_end\u001b[0m\u001b[0;34m,\u001b[0m \u001b[0mthread_count\u001b[0m\u001b[0;34m,\u001b[0m \u001b[0mverbose\u001b[0m\u001b[0;34m,\u001b[0m \u001b[0mtask_type\u001b[0m\u001b[0;34m)\u001b[0m\u001b[0;34m:\u001b[0m\u001b[0;34m\u001b[0m\u001b[0;34m\u001b[0m\u001b[0m\n\u001b[0;32m-> 1832\u001b[0;31m         \u001b[0;32mreturn\u001b[0m \u001b[0mself\u001b[0m\u001b[0;34m.\u001b[0m\u001b[0m_object\u001b[0m\u001b[0;34m.\u001b[0m\u001b[0m_base_predict\u001b[0m\u001b[0;34m(\u001b[0m\u001b[0mpool\u001b[0m\u001b[0;34m,\u001b[0m \u001b[0mprediction_type\u001b[0m\u001b[0;34m,\u001b[0m \u001b[0mntree_start\u001b[0m\u001b[0;34m,\u001b[0m \u001b[0mntree_end\u001b[0m\u001b[0;34m,\u001b[0m \u001b[0mthread_count\u001b[0m\u001b[0;34m,\u001b[0m \u001b[0mverbose\u001b[0m\u001b[0;34m,\u001b[0m \u001b[0mtask_type\u001b[0m\u001b[0;34m)\u001b[0m\u001b[0;34m\u001b[0m\u001b[0;34m\u001b[0m\u001b[0m\n\u001b[0m\u001b[1;32m   1833\u001b[0m \u001b[0;34m\u001b[0m\u001b[0m\n\u001b[1;32m   1834\u001b[0m     \u001b[0;32mdef\u001b[0m \u001b[0m_base_virtual_ensembles_predict\u001b[0m\u001b[0;34m(\u001b[0m\u001b[0mself\u001b[0m\u001b[0;34m,\u001b[0m \u001b[0mpool\u001b[0m\u001b[0;34m,\u001b[0m \u001b[0mprediction_type\u001b[0m\u001b[0;34m,\u001b[0m \u001b[0mntree_end\u001b[0m\u001b[0;34m,\u001b[0m \u001b[0mvirtual_ensembles_count\u001b[0m\u001b[0;34m,\u001b[0m \u001b[0mthread_count\u001b[0m\u001b[0;34m,\u001b[0m \u001b[0mverbose\u001b[0m\u001b[0;34m)\u001b[0m\u001b[0;34m:\u001b[0m\u001b[0;34m\u001b[0m\u001b[0;34m\u001b[0m\u001b[0m\n",
            "\u001b[0;32m_catboost.pyx\u001b[0m in \u001b[0;36m_catboost._CatBoost._base_predict\u001b[0;34m()\u001b[0m\n",
            "\u001b[0;32m_catboost.pyx\u001b[0m in \u001b[0;36m_catboost._CatBoost._base_predict\u001b[0;34m()\u001b[0m\n",
            "\u001b[0;31mCatBoostError\u001b[0m: /src/catboost/catboost/libs/data/model_dataset_compatibility.cpp:72: Feature 1 is present in model but not in pool."
          ]
        }
      ],
      "source": [
        "from catboost import CatBoostRegressor\n",
        "\n",
        "# Initialize CatBoostRegressor\n",
        "catboost = CatBoostRegressor(iterations=100,\n",
        "                          learning_rate=1e-4,\n",
        "                          depth=2)\n",
        "# Fit catboost\n",
        "catboost.fit(X_train, y_train)\n",
        "# Get predictions\n",
        "y_pred = catboost.predict(y_test)\n",
        "short_metrics(np.squeeze(y_pred), np.squeeze(y_test.to_numpy()), np.squeeze(y_train.to_numpy()))\n"
      ]
    },
    {
      "cell_type": "code",
      "execution_count": null,
      "metadata": {
        "colab": {
          "background_save": true,
          "base_uri": "https://localhost:8080/"
        },
        "id": "Yip7sJIgqy21",
        "outputId": "b3a747a2-ef4e-497b-9f45-f0507aee595c"
      },
      "outputs": [
        {
          "name": "stdout",
          "output_type": "stream",
          "text": [
            "y_train shape: (812, 1)\n",
            "y_test shape: (165, 1)\n",
            "y_train columns: Index(['Score'], dtype='object')\n",
            "y_test columns: Index(['Score'], dtype='object')\n"
          ]
        }
      ],
      "source": [
        "print(f\"y_train shape: {y_train.shape}\")\n",
        "print(f\"y_test shape: {y_test.shape}\")\n",
        "\n",
        "print(f\"y_train columns: {y_train.columns}\")\n",
        "print(f\"y_test columns: {y_test.columns}\")"
      ]
    }
  ],
  "metadata": {
    "colab": {
      "provenance": []
    },
    "kernelspec": {
      "display_name": "Python 3",
      "name": "python3"
    },
    "language_info": {
      "name": "python"
    }
  },
  "nbformat": 4,
  "nbformat_minor": 0
}